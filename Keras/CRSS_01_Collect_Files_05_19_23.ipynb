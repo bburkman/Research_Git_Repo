{
 "cells": [
  {
   "cell_type": "markdown",
   "id": "6eada507",
   "metadata": {},
   "source": [
    "- We have the CRSS dataset in \n",
    "    - Big_Files/CRSS_2020_Update/\n",
    "- In one directory for each year,\n",
    "    - CRSS2016CSV\n",
    "    - CRSS2017CSV\n",
    "    - CRSS2018CSV\n",
    "    - CRSS2019CSV\n",
    "    - CRSS2020CSV    \n",
    "    - CRSS2021CSV    \n",
    "- In each year, the CRSS dataset comes in three main files, \n",
    "    - Accident.csv\n",
    "    - Vehicle.csv\n",
    "    - Person.csv\n",
    "- Collect those and merge into three files,\n",
    "    - Accident_Raw.csv\n",
    "    - Vehicle_Raw.csv\n",
    "    - Person_Raw.csv\n",
    "- and also three files with category names,\n",
    "    - Accident_Raw_with_Names.csv\n",
    "    - Vehicle_Raw_with_Names.csv\n",
    "    - Person_Raw_with_Names.csv\n"
   ]
  },
  {
   "cell_type": "code",
   "execution_count": 1,
   "id": "1edb2407",
   "metadata": {},
   "outputs": [
    {
     "data": {
      "text/latex": [
       "\\tableofcontents\n"
      ],
      "text/plain": [
       "<IPython.core.display.Latex object>"
      ]
     },
     "metadata": {},
     "output_type": "display_data"
    }
   ],
   "source": [
    "%%latex\n",
    "\\tableofcontents"
   ]
  },
  {
   "cell_type": "markdown",
   "id": "c7fd6971",
   "metadata": {},
   "source": [
    "# Setup\n",
    "## Import Libraries"
   ]
  },
  {
   "cell_type": "code",
   "execution_count": 2,
   "id": "d9db3b18",
   "metadata": {
    "scrolled": true
   },
   "outputs": [
    {
     "name": "stdout",
     "output_type": "stream",
     "text": [
      "Python version: 3.9.16 (main, Dec  7 2022, 10:02:13) \n",
      "[Clang 14.0.0 (clang-1400.0.29.202)]\n",
      "NumPy version: 1.24.0\n",
      "Pandas version:  1.5.2\n"
     ]
    }
   ],
   "source": [
    "import sys, copy, math, time, os\n",
    "\n",
    "print ('Python version: {}'.format(sys.version))\n",
    "\n",
    "import numpy as np\n",
    "print ('NumPy version: {}'.format(np.__version__))\n",
    "np.set_printoptions(suppress=True)\n",
    "\n",
    "\n",
    "import pandas as pd\n",
    "print ('Pandas version:  {}'.format(pd.__version__))\n",
    "pd.set_option('display.max_rows', 500)\n",
    "\n",
    "# Library for reading Microsoft Access files\n",
    "import pandas_access as mdb\n",
    "\n",
    "\n",
    "# Set Randomness.  Copied from https://www.kaggle.com/code/abazdyrev/keras-nn-focal-loss-experiments\n",
    "import random\n"
   ]
  },
  {
   "cell_type": "markdown",
   "id": "24f41d34",
   "metadata": {},
   "source": [
    "# Import Data"
   ]
  },
  {
   "cell_type": "markdown",
   "id": "3d13504c",
   "metadata": {},
   "source": [
    "### accident.csv from CRSS"
   ]
  },
  {
   "cell_type": "code",
   "execution_count": 3,
   "id": "48cc11d9",
   "metadata": {},
   "outputs": [],
   "source": [
    "def Import_Data_Accident(NAMES):\n",
    "    print ('Import_Data_Accident()')\n",
    "\n",
    "    df = pd.DataFrame([])\n",
    "#    for year in ['2018']:\n",
    "    for year in ['2016','2017','2018']:\n",
    "        filename = '../../Big_Files/CRSS_2020_Update/CRSS' + year + 'CSV/ACCIDENT.CSV'\n",
    "        temp = pd.read_csv(filename, index_col=None)\n",
    "        print (year, len(temp))\n",
    "        df = df.append(temp)\n",
    "\n",
    "#    for year in ['2020']:\n",
    "    for year in ['2019','2020','2021']:\n",
    "        filename = '../../Big_Files/CRSS_2020_Update/CRSS' + year + 'CSV/accident.csv'\n",
    "        temp = pd.read_csv(filename, index_col=None)\n",
    "        print (year, len(temp))\n",
    "        df = df.append(temp)\n",
    "    \n",
    "    if NAMES==0:\n",
    "        for feature in df:\n",
    "            if 'NAME' in feature:\n",
    "                df.drop(columns=[feature], inplace=True)\n",
    "\n",
    "    print (df.shape)\n",
    "    print ()\n",
    "    return df"
   ]
  },
  {
   "cell_type": "markdown",
   "id": "988bca27",
   "metadata": {},
   "source": [
    "## vehicle.csv from CRSS"
   ]
  },
  {
   "cell_type": "code",
   "execution_count": 4,
   "id": "250e2ec4",
   "metadata": {},
   "outputs": [],
   "source": [
    "def Import_Data_Vehicle(NAMES):\n",
    "    print ('Import_Data_Vehicle()')\n",
    "\n",
    "    df = pd.DataFrame([])\n",
    "    for year in ['2016','2017','2018']:\n",
    "        filename = '../../Big_Files/CRSS_2020_Update/CRSS' + year + 'CSV/VEHICLE.CSV'\n",
    "        temp = pd.read_csv(filename, index_col=None, low_memory=False)\n",
    "        print (year, len(temp))\n",
    "        df = df.append(temp)\n",
    "\n",
    "    for year in ['2019','2020','2021']:\n",
    "        filename = '../../Big_Files/CRSS_2020_Update/CRSS' + year + 'CSV/vehicle.csv'\n",
    "        temp = pd.read_csv(filename, index_col=None, encoding='latin1', low_memory=False)\n",
    "        print (year, len(temp))\n",
    "        df = df.append(temp)\n",
    "\n",
    "    if NAMES==0:\n",
    "        for feature in df:\n",
    "            if 'NAME' in feature:\n",
    "                df.drop(columns=[feature], inplace=True)\n",
    "\n",
    "    print (df.shape)\n",
    "    print ()\n",
    "    return df"
   ]
  },
  {
   "cell_type": "markdown",
   "id": "98d7b6cf",
   "metadata": {},
   "source": [
    "### person.csv from CRSS"
   ]
  },
  {
   "cell_type": "code",
   "execution_count": 5,
   "id": "62699818",
   "metadata": {},
   "outputs": [],
   "source": [
    "def Import_Data_Person(NAMES):\n",
    "    print ('Import_Data_Person()')\n",
    "\n",
    "    df = pd.DataFrame([])\n",
    "    for year in ['2016','2017','2018']:\n",
    "        filename = '../../Big_Files/CRSS_2020_Update/CRSS' + year + 'CSV/PERSON.CSV'\n",
    "        temp = pd.read_csv(filename, index_col=None)\n",
    "        print (year, len(temp))\n",
    "        df = df.append(temp)\n",
    "\n",
    "    for year in ['2019','2020','2021']:\n",
    "        filename = '../../Big_Files/CRSS_2020_Update/CRSS' + year + 'CSV/person.csv'\n",
    "        temp = pd.read_csv(filename, index_col=None, encoding='latin1')\n",
    "        print (year, len(temp))\n",
    "        df = df.append(temp)\n",
    "\n",
    "    if NAMES==0:\n",
    "        for feature in df:\n",
    "            if 'NAME' in feature:\n",
    "                df.drop(columns=[feature], inplace=True)\n",
    "\n",
    "    print (df.shape)\n",
    "    print ()\n",
    "    return df"
   ]
  },
  {
   "cell_type": "markdown",
   "id": "075d05f7",
   "metadata": {},
   "source": [
    "## Get Data\n",
    "- The Get_Data_from_Original() reads the (original) CRSS files from the CRSS directory, preprocesses it, and writes it to files in a folder outside this GitHub repo (because the files are too large for my subscription), and returns the dataframes.\n",
    "- The Get_Data_from_Temp_Files() reads the temp files and returns the dataframes.  I created this option for running repeatedly during writing and debugging, because it's much faster."
   ]
  },
  {
   "cell_type": "code",
   "execution_count": 6,
   "id": "f93a66f0",
   "metadata": {},
   "outputs": [],
   "source": [
    "def Get_Data_from_Original():\n",
    "    print ('Get_Data_from_Original()')\n",
    "    \n",
    "    df_Accident = Import_Data_Accident(0)\n",
    "    df_Vehicle = Import_Data_Vehicle(0)\n",
    "    df_Person = Import_Data_Person(0)\n",
    "    \n",
    "    df_Accident.to_csv('../../Big_Files/Accident_Raw.csv', index=False)\n",
    "    df_Vehicle.to_csv('../../Big_Files/Vehicle_Raw.csv', index=False)\n",
    "    df_Person.to_csv('../../Big_Files/Person_Raw.csv', index=False)\n",
    "    \n",
    "\n",
    "    df_Accident = Import_Data_Accident(1)\n",
    "    df_Vehicle = Import_Data_Vehicle(1)\n",
    "    df_Person = Import_Data_Person(1)\n",
    "    \n",
    "    df_Accident.to_csv('../../Big_Files/Accident_Raw_with_NAMES.csv', index=False)\n",
    "    df_Vehicle.to_csv('../../Big_Files/Vehicle_Raw_with_NAMES.csv', index=False)\n",
    "    df_Person.to_csv('../../Big_Files/Person_Raw_with_NAMES.csv', index=False)\n",
    "    \n",
    "\n",
    "    return df_Accident, df_Vehicle, df_Person"
   ]
  },
  {
   "cell_type": "code",
   "execution_count": 7,
   "id": "db9ba441",
   "metadata": {},
   "outputs": [],
   "source": [
    "def Check_New_Files():\n",
    "    print ('Check_New_Files')\n",
    "    Files = [\n",
    "        'Accident_Raw',\n",
    "        'Vehicle_Raw',\n",
    "        'Person_Raw',\n",
    "        'Accident_Raw_with_Names',\n",
    "        'Vehicle_Raw_with_Names',\n",
    "        'Person_Raw_with_Names'\n",
    "    ]\n",
    "    for filename in Files:\n",
    "        df = pd.read_csv('../../Big_Files/' + filename + '.csv', low_memory=False)\n",
    "        print (filename, df.shape)\n",
    "    \n",
    "    return 0    "
   ]
  },
  {
   "cell_type": "code",
   "execution_count": 8,
   "id": "61d026ec",
   "metadata": {
    "scrolled": true
   },
   "outputs": [
    {
     "name": "stdout",
     "output_type": "stream",
     "text": [
      "Get_Data_from_Original()\n",
      "Import_Data_Accident()\n",
      "2016 46511\n",
      "2017 54969\n"
     ]
    },
    {
     "name": "stderr",
     "output_type": "stream",
     "text": [
      "<ipython-input-3-d80dd94263c6>:10: FutureWarning: The frame.append method is deprecated and will be removed from pandas in a future version. Use pandas.concat instead.\n",
      "  df = df.append(temp)\n",
      "<ipython-input-3-d80dd94263c6>:10: FutureWarning: The frame.append method is deprecated and will be removed from pandas in a future version. Use pandas.concat instead.\n",
      "  df = df.append(temp)\n",
      "<ipython-input-3-d80dd94263c6>:10: FutureWarning: The frame.append method is deprecated and will be removed from pandas in a future version. Use pandas.concat instead.\n",
      "  df = df.append(temp)\n"
     ]
    },
    {
     "name": "stdout",
     "output_type": "stream",
     "text": [
      "2018 48443\n",
      "2019 54409\n"
     ]
    },
    {
     "name": "stderr",
     "output_type": "stream",
     "text": [
      "<ipython-input-3-d80dd94263c6>:17: FutureWarning: The frame.append method is deprecated and will be removed from pandas in a future version. Use pandas.concat instead.\n",
      "  df = df.append(temp)\n"
     ]
    },
    {
     "name": "stdout",
     "output_type": "stream",
     "text": [
      "2020 54745\n"
     ]
    },
    {
     "name": "stderr",
     "output_type": "stream",
     "text": [
      "<ipython-input-3-d80dd94263c6>:17: FutureWarning: The frame.append method is deprecated and will be removed from pandas in a future version. Use pandas.concat instead.\n",
      "  df = df.append(temp)\n"
     ]
    },
    {
     "name": "stdout",
     "output_type": "stream",
     "text": [
      "2021 54200\n"
     ]
    },
    {
     "name": "stderr",
     "output_type": "stream",
     "text": [
      "<ipython-input-3-d80dd94263c6>:17: FutureWarning: The frame.append method is deprecated and will be removed from pandas in a future version. Use pandas.concat instead.\n",
      "  df = df.append(temp)\n"
     ]
    },
    {
     "name": "stdout",
     "output_type": "stream",
     "text": [
      "(313277, 51)\n",
      "\n",
      "Import_Data_Vehicle()\n",
      "2016 82149\n"
     ]
    },
    {
     "name": "stderr",
     "output_type": "stream",
     "text": [
      "<ipython-input-4-d3c5e15787a0>:9: FutureWarning: The frame.append method is deprecated and will be removed from pandas in a future version. Use pandas.concat instead.\n",
      "  df = df.append(temp)\n"
     ]
    },
    {
     "name": "stdout",
     "output_type": "stream",
     "text": [
      "2017 97625\n"
     ]
    },
    {
     "name": "stderr",
     "output_type": "stream",
     "text": [
      "<ipython-input-4-d3c5e15787a0>:9: FutureWarning: The frame.append method is deprecated and will be removed from pandas in a future version. Use pandas.concat instead.\n",
      "  df = df.append(temp)\n"
     ]
    },
    {
     "name": "stdout",
     "output_type": "stream",
     "text": [
      "2018 86105\n"
     ]
    },
    {
     "name": "stderr",
     "output_type": "stream",
     "text": [
      "<ipython-input-4-d3c5e15787a0>:9: FutureWarning: The frame.append method is deprecated and will be removed from pandas in a future version. Use pandas.concat instead.\n",
      "  df = df.append(temp)\n"
     ]
    },
    {
     "name": "stdout",
     "output_type": "stream",
     "text": [
      "2019 96717\n"
     ]
    },
    {
     "name": "stderr",
     "output_type": "stream",
     "text": [
      "<ipython-input-4-d3c5e15787a0>:15: FutureWarning: The frame.append method is deprecated and will be removed from pandas in a future version. Use pandas.concat instead.\n",
      "  df = df.append(temp)\n"
     ]
    },
    {
     "name": "stdout",
     "output_type": "stream",
     "text": [
      "2020 94718\n"
     ]
    },
    {
     "name": "stderr",
     "output_type": "stream",
     "text": [
      "<ipython-input-4-d3c5e15787a0>:15: FutureWarning: The frame.append method is deprecated and will be removed from pandas in a future version. Use pandas.concat instead.\n",
      "  df = df.append(temp)\n"
     ]
    },
    {
     "name": "stdout",
     "output_type": "stream",
     "text": [
      "2021 95785\n"
     ]
    },
    {
     "name": "stderr",
     "output_type": "stream",
     "text": [
      "<ipython-input-4-d3c5e15787a0>:15: FutureWarning: The frame.append method is deprecated and will be removed from pandas in a future version. Use pandas.concat instead.\n",
      "  df = df.append(temp)\n"
     ]
    },
    {
     "name": "stdout",
     "output_type": "stream",
     "text": [
      "(553099, 98)\n",
      "\n",
      "Import_Data_Person()\n",
      "2016 117759\n"
     ]
    },
    {
     "name": "stderr",
     "output_type": "stream",
     "text": [
      "<ipython-input-5-1dddff78fe9a>:9: FutureWarning: The frame.append method is deprecated and will be removed from pandas in a future version. Use pandas.concat instead.\n",
      "  df = df.append(temp)\n",
      "<ipython-input-5-1dddff78fe9a>:9: FutureWarning: The frame.append method is deprecated and will be removed from pandas in a future version. Use pandas.concat instead.\n",
      "  df = df.append(temp)\n"
     ]
    },
    {
     "name": "stdout",
     "output_type": "stream",
     "text": [
      "2017 138913\n",
      "2018 120230\n"
     ]
    },
    {
     "name": "stderr",
     "output_type": "stream",
     "text": [
      "<ipython-input-5-1dddff78fe9a>:9: FutureWarning: The frame.append method is deprecated and will be removed from pandas in a future version. Use pandas.concat instead.\n",
      "  df = df.append(temp)\n"
     ]
    },
    {
     "name": "stdout",
     "output_type": "stream",
     "text": [
      "2019 135410\n"
     ]
    },
    {
     "name": "stderr",
     "output_type": "stream",
     "text": [
      "<ipython-input-5-1dddff78fe9a>:15: FutureWarning: The frame.append method is deprecated and will be removed from pandas in a future version. Use pandas.concat instead.\n",
      "  df = df.append(temp)\n"
     ]
    },
    {
     "name": "stdout",
     "output_type": "stream",
     "text": [
      "2020 131962\n"
     ]
    },
    {
     "name": "stderr",
     "output_type": "stream",
     "text": [
      "<ipython-input-5-1dddff78fe9a>:15: FutureWarning: The frame.append method is deprecated and will be removed from pandas in a future version. Use pandas.concat instead.\n",
      "  df = df.append(temp)\n"
     ]
    },
    {
     "name": "stdout",
     "output_type": "stream",
     "text": [
      "2021 133734\n"
     ]
    },
    {
     "name": "stderr",
     "output_type": "stream",
     "text": [
      "<ipython-input-5-1dddff78fe9a>:15: FutureWarning: The frame.append method is deprecated and will be removed from pandas in a future version. Use pandas.concat instead.\n",
      "  df = df.append(temp)\n"
     ]
    },
    {
     "name": "stdout",
     "output_type": "stream",
     "text": [
      "(778008, 69)\n",
      "\n",
      "Import_Data_Accident()\n",
      "2016 46511\n",
      "2017 54969\n",
      "2018 48443\n"
     ]
    },
    {
     "name": "stderr",
     "output_type": "stream",
     "text": [
      "<ipython-input-3-d80dd94263c6>:10: FutureWarning: The frame.append method is deprecated and will be removed from pandas in a future version. Use pandas.concat instead.\n",
      "  df = df.append(temp)\n",
      "<ipython-input-3-d80dd94263c6>:10: FutureWarning: The frame.append method is deprecated and will be removed from pandas in a future version. Use pandas.concat instead.\n",
      "  df = df.append(temp)\n",
      "<ipython-input-3-d80dd94263c6>:10: FutureWarning: The frame.append method is deprecated and will be removed from pandas in a future version. Use pandas.concat instead.\n",
      "  df = df.append(temp)\n"
     ]
    },
    {
     "name": "stdout",
     "output_type": "stream",
     "text": [
      "2019 54409\n"
     ]
    },
    {
     "name": "stderr",
     "output_type": "stream",
     "text": [
      "<ipython-input-3-d80dd94263c6>:17: FutureWarning: The frame.append method is deprecated and will be removed from pandas in a future version. Use pandas.concat instead.\n",
      "  df = df.append(temp)\n"
     ]
    },
    {
     "name": "stdout",
     "output_type": "stream",
     "text": [
      "2020 54745\n"
     ]
    },
    {
     "name": "stderr",
     "output_type": "stream",
     "text": [
      "<ipython-input-3-d80dd94263c6>:17: FutureWarning: The frame.append method is deprecated and will be removed from pandas in a future version. Use pandas.concat instead.\n",
      "  df = df.append(temp)\n"
     ]
    },
    {
     "name": "stdout",
     "output_type": "stream",
     "text": [
      "2021 54200\n",
      "(313277, 90)\n",
      "\n",
      "Import_Data_Vehicle()\n"
     ]
    },
    {
     "name": "stderr",
     "output_type": "stream",
     "text": [
      "<ipython-input-3-d80dd94263c6>:17: FutureWarning: The frame.append method is deprecated and will be removed from pandas in a future version. Use pandas.concat instead.\n",
      "  df = df.append(temp)\n"
     ]
    },
    {
     "name": "stdout",
     "output_type": "stream",
     "text": [
      "2016 82149\n"
     ]
    },
    {
     "name": "stderr",
     "output_type": "stream",
     "text": [
      "<ipython-input-4-d3c5e15787a0>:9: FutureWarning: The frame.append method is deprecated and will be removed from pandas in a future version. Use pandas.concat instead.\n",
      "  df = df.append(temp)\n"
     ]
    },
    {
     "name": "stdout",
     "output_type": "stream",
     "text": [
      "2017 97625\n"
     ]
    },
    {
     "name": "stderr",
     "output_type": "stream",
     "text": [
      "<ipython-input-4-d3c5e15787a0>:9: FutureWarning: The frame.append method is deprecated and will be removed from pandas in a future version. Use pandas.concat instead.\n",
      "  df = df.append(temp)\n"
     ]
    },
    {
     "name": "stdout",
     "output_type": "stream",
     "text": [
      "2018 86105\n"
     ]
    },
    {
     "name": "stderr",
     "output_type": "stream",
     "text": [
      "<ipython-input-4-d3c5e15787a0>:9: FutureWarning: The frame.append method is deprecated and will be removed from pandas in a future version. Use pandas.concat instead.\n",
      "  df = df.append(temp)\n"
     ]
    },
    {
     "name": "stdout",
     "output_type": "stream",
     "text": [
      "2019 96717\n"
     ]
    },
    {
     "name": "stderr",
     "output_type": "stream",
     "text": [
      "<ipython-input-4-d3c5e15787a0>:15: FutureWarning: The frame.append method is deprecated and will be removed from pandas in a future version. Use pandas.concat instead.\n",
      "  df = df.append(temp)\n"
     ]
    },
    {
     "name": "stdout",
     "output_type": "stream",
     "text": [
      "2020 94718\n"
     ]
    },
    {
     "name": "stderr",
     "output_type": "stream",
     "text": [
      "<ipython-input-4-d3c5e15787a0>:15: FutureWarning: The frame.append method is deprecated and will be removed from pandas in a future version. Use pandas.concat instead.\n",
      "  df = df.append(temp)\n"
     ]
    },
    {
     "name": "stdout",
     "output_type": "stream",
     "text": [
      "2021 95785\n"
     ]
    },
    {
     "name": "stderr",
     "output_type": "stream",
     "text": [
      "<ipython-input-4-d3c5e15787a0>:15: FutureWarning: The frame.append method is deprecated and will be removed from pandas in a future version. Use pandas.concat instead.\n",
      "  df = df.append(temp)\n"
     ]
    },
    {
     "name": "stdout",
     "output_type": "stream",
     "text": [
      "(553099, 187)\n",
      "\n",
      "Import_Data_Person()\n",
      "2016 117759\n"
     ]
    },
    {
     "name": "stderr",
     "output_type": "stream",
     "text": [
      "<ipython-input-5-1dddff78fe9a>:9: FutureWarning: The frame.append method is deprecated and will be removed from pandas in a future version. Use pandas.concat instead.\n",
      "  df = df.append(temp)\n",
      "<ipython-input-5-1dddff78fe9a>:9: FutureWarning: The frame.append method is deprecated and will be removed from pandas in a future version. Use pandas.concat instead.\n",
      "  df = df.append(temp)\n"
     ]
    },
    {
     "name": "stdout",
     "output_type": "stream",
     "text": [
      "2017 138913\n",
      "2018 120230\n"
     ]
    },
    {
     "name": "stderr",
     "output_type": "stream",
     "text": [
      "<ipython-input-5-1dddff78fe9a>:9: FutureWarning: The frame.append method is deprecated and will be removed from pandas in a future version. Use pandas.concat instead.\n",
      "  df = df.append(temp)\n"
     ]
    },
    {
     "name": "stdout",
     "output_type": "stream",
     "text": [
      "2019 135410\n"
     ]
    },
    {
     "name": "stderr",
     "output_type": "stream",
     "text": [
      "<ipython-input-5-1dddff78fe9a>:15: FutureWarning: The frame.append method is deprecated and will be removed from pandas in a future version. Use pandas.concat instead.\n",
      "  df = df.append(temp)\n"
     ]
    },
    {
     "name": "stdout",
     "output_type": "stream",
     "text": [
      "2020 131962\n"
     ]
    },
    {
     "name": "stderr",
     "output_type": "stream",
     "text": [
      "<ipython-input-5-1dddff78fe9a>:15: FutureWarning: The frame.append method is deprecated and will be removed from pandas in a future version. Use pandas.concat instead.\n",
      "  df = df.append(temp)\n"
     ]
    },
    {
     "name": "stdout",
     "output_type": "stream",
     "text": [
      "2021 133734\n"
     ]
    },
    {
     "name": "stderr",
     "output_type": "stream",
     "text": [
      "<ipython-input-5-1dddff78fe9a>:15: FutureWarning: The frame.append method is deprecated and will be removed from pandas in a future version. Use pandas.concat instead.\n",
      "  df = df.append(temp)\n"
     ]
    },
    {
     "name": "stdout",
     "output_type": "stream",
     "text": [
      "(778008, 121)\n",
      "\n"
     ]
    }
   ],
   "source": [
    "df_Accident, df_Vehicle, df_Person = Get_Data_from_Original()"
   ]
  },
  {
   "cell_type": "code",
   "execution_count": 9,
   "id": "b8d15535",
   "metadata": {
    "scrolled": true
   },
   "outputs": [
    {
     "name": "stdout",
     "output_type": "stream",
     "text": [
      "Check_New_Files\n",
      "Accident_Raw (313277, 51)\n",
      "Vehicle_Raw (553099, 98)\n",
      "Person_Raw (778008, 69)\n",
      "Accident_Raw_with_Names (313277, 90)\n",
      "Vehicle_Raw_with_Names (553099, 187)\n",
      "Person_Raw_with_Names (778008, 121)\n"
     ]
    },
    {
     "data": {
      "text/plain": [
       "0"
      ]
     },
     "execution_count": 9,
     "metadata": {},
     "output_type": "execute_result"
    }
   ],
   "source": [
    "Check_New_Files()"
   ]
  },
  {
   "cell_type": "code",
   "execution_count": null,
   "id": "63c89744",
   "metadata": {},
   "outputs": [],
   "source": []
  }
 ],
 "metadata": {
  "kernelspec": {
   "display_name": "Python 3",
   "language": "python",
   "name": "python3"
  },
  "language_info": {
   "codemirror_mode": {
    "name": "ipython",
    "version": 3
   },
   "file_extension": ".py",
   "mimetype": "text/x-python",
   "name": "python",
   "nbconvert_exporter": "python",
   "pygments_lexer": "ipython3",
   "version": "3.9.16"
  }
 },
 "nbformat": 4,
 "nbformat_minor": 5
}
