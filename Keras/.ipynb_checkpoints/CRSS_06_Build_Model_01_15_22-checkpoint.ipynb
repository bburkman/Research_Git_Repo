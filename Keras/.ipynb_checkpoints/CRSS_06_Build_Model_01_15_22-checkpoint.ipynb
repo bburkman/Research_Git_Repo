{
 "cells": [
  {
   "cell_type": "markdown",
   "id": "3c261718",
   "metadata": {},
   "source": [
    "- I tried to use Tensorflow, but \n",
    "    - I didn't understand how to access what was happening under the hood.  I like to run my fingers through the numbers, and I couldn't see them, so I think I had problems but couldn't find them, and\n",
    "    - I think Tensors make the operation too complicated for some of my imbalanced data techniques.\n",
    "- This attempt is really basic, an adaptation of the Keras example for structured data, \"Imbalanced Data: Credit Card Fraud Detection\" example at \n",
    "https://keras.io/examples/structured_data/imbalanced_classification/"
   ]
  },
  {
   "cell_type": "code",
   "execution_count": 1,
   "id": "767154e6",
   "metadata": {},
   "outputs": [
    {
     "data": {
      "text/latex": [
       "\\tableofcontents\n"
      ],
      "text/plain": [
       "<IPython.core.display.Latex object>"
      ]
     },
     "metadata": {},
     "output_type": "display_data"
    }
   ],
   "source": [
    "%%latex\n",
    "\\tableofcontents"
   ]
  },
  {
   "cell_type": "markdown",
   "id": "b97e1d2b",
   "metadata": {},
   "source": [
    "# Setup"
   ]
  },
  {
   "cell_type": "markdown",
   "id": "5cd7d47d",
   "metadata": {},
   "source": [
    "## Import Libraries"
   ]
  },
  {
   "cell_type": "code",
   "execution_count": 2,
   "id": "122b4fa5",
   "metadata": {},
   "outputs": [
    {
     "name": "stdout",
     "output_type": "stream",
     "text": [
      "Install Packages\n",
      "Python version: 3.10.8 | packaged by conda-forge | (main, Nov 22 2022, 08:25:13) [Clang 14.0.6 ]\n",
      "NumPy version: 1.24.0\n",
      "SciPy version:  1.9.3\n",
      "TensorFlow version:  2.10.0\n",
      "Keras version:  2.10.0\n",
      "Pandas version:  1.5.2\n",
      "Seaborn version: 0.12.1\n",
      "SciKit-Learn version: 1.2.0\n",
      "Imbalanced-Learn version: 0.10.0\n",
      "\u001b[33mDEPRECATION: Configuring installation scheme with distutils config files is deprecated and will no longer work in the near future. If you are using a Homebrew or Linuxbrew Python, please see discussion at https://github.com/Homebrew/homebrew-core/issues/76621\u001b[0m\u001b[33m\n",
      "\u001b[0mRequirement already satisfied: pydot in /opt/homebrew/lib/python3.9/site-packages (1.4.2)\n",
      "Requirement already satisfied: pyparsing>=2.1.4 in /opt/homebrew/lib/python3.9/site-packages (from pydot) (3.0.9)\n",
      "\u001b[33mDEPRECATION: Configuring installation scheme with distutils config files is deprecated and will no longer work in the near future. If you are using a Homebrew or Linuxbrew Python, please see discussion at https://github.com/Homebrew/homebrew-core/issues/76621\u001b[0m\u001b[33m\n",
      "\u001b[0mFinished Installing Packages\n"
     ]
    }
   ],
   "source": [
    "print ('Install Packages')\n",
    "\n",
    "import sys, copy, math, time, os\n",
    "\n",
    "print ('Python version: {}'.format(sys.version))\n",
    "\n",
    "#from collections import Counter\n",
    "\n",
    "import numpy as np\n",
    "print ('NumPy version: {}'.format(np.__version__))\n",
    "np.set_printoptions(suppress=True)\n",
    "\n",
    "import scipy as sc\n",
    "print ('SciPy version:  {}'.format(sc.__version__))\n",
    "\n",
    "import tensorflow as tf\n",
    "print ('TensorFlow version:  {}'.format(tf.__version__))\n",
    "tf.config.run_functions_eagerly(True)\n",
    "tf.data.experimental.enable_debug_mode()\n",
    "\n",
    "from tensorflow import keras\n",
    "print ('Keras version:  {}'.format(keras.__version__))\n",
    "\n",
    "from keras import layers\n",
    "import keras.backend as K\n",
    "\n",
    "from keras.utils.generic_utils import get_custom_objects\n",
    "\n",
    "from keras.layers import IntegerLookup\n",
    "from keras.layers import Normalization\n",
    "from keras.layers import StringLookup\n",
    "\n",
    "from keras.wrappers.scikit_learn import KerasClassifier\n",
    "\n",
    "import pandas as pd\n",
    "print ('Pandas version:  {}'.format(pd.__version__))\n",
    "pd.set_option('display.max_rows', 500)\n",
    "\n",
    "import seaborn as sns\n",
    "print ('Seaborn version: {}'.format(sns.__version__))\n",
    "\n",
    "import matplotlib.pyplot as plt\n",
    "%matplotlib inline\n",
    "\n",
    "# Library for reading Microsoft Access files\n",
    "#import pandas_access as mdb\n",
    "\n",
    "import sklearn\n",
    "print ('SciKit-Learn version: {}'.format(sklearn.__version__))\n",
    "from sklearn.model_selection import train_test_split\n",
    "from sklearn.ensemble import AdaBoostClassifier\n",
    "from sklearn.metrics import roc_auc_score\n",
    "\n",
    "import imblearn\n",
    "print ('Imbalanced-Learn version: {}'.format(imblearn.__version__))\n",
    "from imblearn.under_sampling import TomekLinks\n",
    "from imblearn.under_sampling import CondensedNearestNeighbour\n",
    "\n",
    "!pip install pydot\n",
    "\n",
    "# Set Randomness.  Copied from https://www.kaggle.com/code/abazdyrev/keras-nn-focal-loss-experiments\n",
    "import random\n",
    "np.random.seed(42) # NumPy\n",
    "random.seed(42) # Python\n",
    "tf.random.set_seed(42) # Tensorflow\n",
    "\n",
    "print ('Finished Installing Packages')"
   ]
  },
  {
   "cell_type": "markdown",
   "id": "0437f109",
   "metadata": {},
   "source": [
    "## Get Data"
   ]
  },
  {
   "cell_type": "code",
   "execution_count": 3,
   "id": "919fb2db",
   "metadata": {
    "scrolled": true
   },
   "outputs": [
    {
     "name": "stdout",
     "output_type": "stream",
     "text": [
      "Get_Data()\n",
      "data.shape:  (619027, 82)\n",
      "End Get_Data()\n",
      "\n"
     ]
    },
    {
     "data": {
      "text/html": [
       "<div>\n",
       "<style scoped>\n",
       "    .dataframe tbody tr th:only-of-type {\n",
       "        vertical-align: middle;\n",
       "    }\n",
       "\n",
       "    .dataframe tbody tr th {\n",
       "        vertical-align: top;\n",
       "    }\n",
       "\n",
       "    .dataframe thead th {\n",
       "        text-align: right;\n",
       "    }\n",
       "</style>\n",
       "<table border=\"1\" class=\"dataframe\">\n",
       "  <thead>\n",
       "    <tr style=\"text-align: right;\">\n",
       "      <th></th>\n",
       "      <th>CASENUM</th>\n",
       "      <th>INT_HWY</th>\n",
       "      <th>MONTH</th>\n",
       "      <th>PEDS</th>\n",
       "      <th>PERMVIT</th>\n",
       "      <th>REL_ROAD</th>\n",
       "      <th>SCH_BUS</th>\n",
       "      <th>URBANICITY</th>\n",
       "      <th>VE_TOTAL</th>\n",
       "      <th>DAY_WEEK</th>\n",
       "      <th>...</th>\n",
       "      <th>RELJCT2</th>\n",
       "      <th>REST_USE</th>\n",
       "      <th>AIR_BAG</th>\n",
       "      <th>TYP_INT</th>\n",
       "      <th>VSPD_LIM</th>\n",
       "      <th>VPROFILE</th>\n",
       "      <th>ALC_RES</th>\n",
       "      <th>ALC_STATUS</th>\n",
       "      <th>VEH_ALCH</th>\n",
       "      <th>VTRAFWAY</th>\n",
       "    </tr>\n",
       "  </thead>\n",
       "  <tbody>\n",
       "    <tr>\n",
       "      <th>0</th>\n",
       "      <td>201701219525</td>\n",
       "      <td>0</td>\n",
       "      <td>0</td>\n",
       "      <td>0</td>\n",
       "      <td>1</td>\n",
       "      <td>1</td>\n",
       "      <td>0</td>\n",
       "      <td>1</td>\n",
       "      <td>2</td>\n",
       "      <td>1</td>\n",
       "      <td>...</td>\n",
       "      <td>1</td>\n",
       "      <td>1</td>\n",
       "      <td>1</td>\n",
       "      <td>1</td>\n",
       "      <td>2</td>\n",
       "      <td>1</td>\n",
       "      <td>0</td>\n",
       "      <td>1</td>\n",
       "      <td>1</td>\n",
       "      <td>0</td>\n",
       "    </tr>\n",
       "    <tr>\n",
       "      <th>1</th>\n",
       "      <td>201800450781</td>\n",
       "      <td>0</td>\n",
       "      <td>0</td>\n",
       "      <td>0</td>\n",
       "      <td>0</td>\n",
       "      <td>0</td>\n",
       "      <td>0</td>\n",
       "      <td>2</td>\n",
       "      <td>1</td>\n",
       "      <td>1</td>\n",
       "      <td>...</td>\n",
       "      <td>1</td>\n",
       "      <td>1</td>\n",
       "      <td>1</td>\n",
       "      <td>1</td>\n",
       "      <td>7</td>\n",
       "      <td>1</td>\n",
       "      <td>0</td>\n",
       "      <td>1</td>\n",
       "      <td>1</td>\n",
       "      <td>0</td>\n",
       "    </tr>\n",
       "    <tr>\n",
       "      <th>2</th>\n",
       "      <td>201901811861</td>\n",
       "      <td>0</td>\n",
       "      <td>2</td>\n",
       "      <td>0</td>\n",
       "      <td>0</td>\n",
       "      <td>2</td>\n",
       "      <td>0</td>\n",
       "      <td>1</td>\n",
       "      <td>2</td>\n",
       "      <td>1</td>\n",
       "      <td>...</td>\n",
       "      <td>1</td>\n",
       "      <td>1</td>\n",
       "      <td>1</td>\n",
       "      <td>1</td>\n",
       "      <td>7</td>\n",
       "      <td>1</td>\n",
       "      <td>0</td>\n",
       "      <td>1</td>\n",
       "      <td>1</td>\n",
       "      <td>0</td>\n",
       "    </tr>\n",
       "    <tr>\n",
       "      <th>3</th>\n",
       "      <td>201701360851</td>\n",
       "      <td>0</td>\n",
       "      <td>1</td>\n",
       "      <td>0</td>\n",
       "      <td>1</td>\n",
       "      <td>1</td>\n",
       "      <td>0</td>\n",
       "      <td>1</td>\n",
       "      <td>2</td>\n",
       "      <td>0</td>\n",
       "      <td>...</td>\n",
       "      <td>1</td>\n",
       "      <td>1</td>\n",
       "      <td>1</td>\n",
       "      <td>1</td>\n",
       "      <td>2</td>\n",
       "      <td>1</td>\n",
       "      <td>0</td>\n",
       "      <td>1</td>\n",
       "      <td>1</td>\n",
       "      <td>0</td>\n",
       "    </tr>\n",
       "    <tr>\n",
       "      <th>4</th>\n",
       "      <td>201901343065</td>\n",
       "      <td>0</td>\n",
       "      <td>0</td>\n",
       "      <td>0</td>\n",
       "      <td>1</td>\n",
       "      <td>1</td>\n",
       "      <td>0</td>\n",
       "      <td>1</td>\n",
       "      <td>2</td>\n",
       "      <td>0</td>\n",
       "      <td>...</td>\n",
       "      <td>1</td>\n",
       "      <td>1</td>\n",
       "      <td>1</td>\n",
       "      <td>1</td>\n",
       "      <td>2</td>\n",
       "      <td>1</td>\n",
       "      <td>0</td>\n",
       "      <td>1</td>\n",
       "      <td>1</td>\n",
       "      <td>0</td>\n",
       "    </tr>\n",
       "  </tbody>\n",
       "</table>\n",
       "<p>5 rows × 82 columns</p>\n",
       "</div>"
      ],
      "text/plain": [
       "        CASENUM  INT_HWY  MONTH  PEDS  PERMVIT  REL_ROAD  SCH_BUS  URBANICITY  \\\n",
       "0  201701219525        0      0     0        1         1        0           1   \n",
       "1  201800450781        0      0     0        0         0        0           2   \n",
       "2  201901811861        0      2     0        0         2        0           1   \n",
       "3  201701360851        0      1     0        1         1        0           1   \n",
       "4  201901343065        0      0     0        1         1        0           1   \n",
       "\n",
       "   VE_TOTAL  DAY_WEEK  ...  RELJCT2  REST_USE  AIR_BAG  TYP_INT  VSPD_LIM  \\\n",
       "0         2         1  ...        1         1        1        1         2   \n",
       "1         1         1  ...        1         1        1        1         7   \n",
       "2         2         1  ...        1         1        1        1         7   \n",
       "3         2         0  ...        1         1        1        1         2   \n",
       "4         2         0  ...        1         1        1        1         2   \n",
       "\n",
       "   VPROFILE  ALC_RES  ALC_STATUS  VEH_ALCH  VTRAFWAY  \n",
       "0         1        0           1         1         0  \n",
       "1         1        0           1         1         0  \n",
       "2         1        0           1         1         0  \n",
       "3         1        0           1         1         0  \n",
       "4         1        0           1         1         0  \n",
       "\n",
       "[5 rows x 82 columns]"
      ]
     },
     "metadata": {},
     "output_type": "display_data"
    }
   ],
   "source": [
    "def Get_Data():\n",
    "    print ('Get_Data()')\n",
    "    data = pd.read_csv(\n",
    "        '../../Big_Files/CRSS_Imputed_All_12_22_22.csv',\n",
    "        low_memory=False\n",
    "    )\n",
    "    print ('data.shape: ', data.shape)\n",
    "    \n",
    "    print ('End Get_Data()')\n",
    "    print ()\n",
    "    return data\n",
    "\n",
    "def Test_Get_Data():\n",
    "    data = Get_Data()\n",
    "    display (data.head())\n",
    "    \n",
    "Test_Get_Data()"
   ]
  },
  {
   "cell_type": "markdown",
   "id": "1d540640",
   "metadata": {},
   "source": [
    "# Remove_Pedestrian_Crashes"
   ]
  },
  {
   "cell_type": "code",
   "execution_count": 4,
   "id": "ac62df2d",
   "metadata": {},
   "outputs": [],
   "source": [
    "def Remove_Pedestrian_Crashes(data):\n",
    "    display(data.PEDS.value_counts())\n",
    "    n = len(data[data.PEDS>0])\n",
    "    print ('Removing %d crashes that involve a pedestrian.' % n)\n",
    "    data = data[data.PEDS==0]\n",
    "    return data"
   ]
  },
  {
   "cell_type": "markdown",
   "id": "2adb9dce",
   "metadata": {},
   "source": [
    "## Engineer Features"
   ]
  },
  {
   "cell_type": "code",
   "execution_count": 5,
   "id": "e85fa858",
   "metadata": {},
   "outputs": [],
   "source": [
    "def Feature_Engineering_Cross_Two(data):\n",
    "    print ('Feature_Engineering_Cross_Two')\n",
    "    Pairs = [\n",
    "        ['AGE', 'SEX', 'AGE_x_SEX'],\n",
    "        ['AGE', 'SCH_BUS', 'AGE_x_SCH_BUS']\n",
    "    ]\n",
    "    for P in Pairs:\n",
    "        data[P[2]] = data[P[0]].map(str) + '_x_' + data[P[1]].map(str)\n",
    "    \n",
    "    print ()\n",
    "    return data\n",
    "        "
   ]
  },
  {
   "cell_type": "markdown",
   "id": "2b900000",
   "metadata": {},
   "source": [
    "## Thin Features"
   ]
  },
  {
   "cell_type": "code",
   "execution_count": 6,
   "id": "86a0c76b",
   "metadata": {},
   "outputs": [
    {
     "name": "stdout",
     "output_type": "stream",
     "text": [
      "Get_Data()\n",
      "data.shape:  (619027, 82)\n",
      "End Get_Data()\n",
      "\n",
      "Thin_Features()\n",
      "data.shape:  (619027, 39)\n",
      "End Thin_Features()\n",
      "\n"
     ]
    },
    {
     "data": {
      "text/plain": [
       "2    395203\n",
       "3    111949\n",
       "0     47951\n",
       "1     42134\n",
       "4     21790\n",
       "Name: AGE, dtype: int64"
      ]
     },
     "metadata": {},
     "output_type": "display_data"
    },
    {
     "data": {
      "text/plain": [
       "1    221301\n",
       "5    153085\n",
       "3     92952\n",
       "2     59376\n",
       "0     46961\n",
       "4     45352\n",
       "Name: BODY_TYP, dtype: int64"
      ]
     },
     "metadata": {},
     "output_type": "display_data"
    },
    {
     "data": {
      "text/plain": [
       "1    616201\n",
       "2      2699\n",
       "0       127\n",
       "Name: BUS_USE, dtype: int64"
      ]
     },
     "metadata": {},
     "output_type": "display_data"
    },
    {
     "data": {
      "text/plain": [
       "1    465260\n",
       "0    153767\n",
       "Name: DAY_WEEK, dtype: int64"
      ]
     },
     "metadata": {},
     "output_type": "display_data"
    },
    {
     "data": {
      "text/plain": [
       "1    617091\n",
       "0      1186\n",
       "2       750\n",
       "Name: EMER_USE, dtype: int64"
      ]
     },
     "metadata": {},
     "output_type": "display_data"
    },
    {
     "data": {
      "text/plain": [
       "0    529840\n",
       "1     89187\n",
       "Name: HOSPITAL, dtype: int64"
      ]
     },
     "metadata": {},
     "output_type": "display_data"
    },
    {
     "data": {
      "text/plain": [
       "3    165476\n",
       "2    150963\n",
       "1    106547\n",
       "4     73637\n",
       "5     59088\n",
       "6     40804\n",
       "0     22512\n",
       "Name: HOUR, dtype: int64"
      ]
     },
     "metadata": {},
     "output_type": "display_data"
    },
    {
     "data": {
      "text/plain": [
       "0    555566\n",
       "1     63461\n",
       "Name: INT_HWY, dtype: int64"
      ]
     },
     "metadata": {},
     "output_type": "display_data"
    },
    {
     "data": {
      "text/plain": [
       "3    445496\n",
       "1    108465\n",
       "0     50350\n",
       "2     14716\n",
       "Name: LGT_COND, dtype: int64"
      ]
     },
     "metadata": {},
     "output_type": "display_data"
    },
    {
     "data": {
      "text/plain": [
       "8    135069\n",
       "0    121558\n",
       "1     86857\n",
       "6     81273\n",
       "2     76578\n",
       "4     71217\n",
       "7     24997\n",
       "3     12328\n",
       "5      9150\n",
       "Name: MAKE, dtype: int64"
      ]
     },
     "metadata": {},
     "output_type": "display_data"
    },
    {
     "data": {
      "text/plain": [
       "1    145569\n",
       "4    136958\n",
       "3    122451\n",
       "2    112129\n",
       "0    101920\n",
       "Name: MODEL, dtype: int64"
      ]
     },
     "metadata": {},
     "output_type": "display_data"
    },
    {
     "data": {
      "text/plain": [
       "2    216711\n",
       "1    208215\n",
       "0    194101\n",
       "Name: MONTH, dtype: int64"
      ]
     },
     "metadata": {},
     "output_type": "display_data"
    },
    {
     "data": {
      "text/plain": [
       "3    348269\n",
       "1    147867\n",
       "5     62203\n",
       "6     51666\n",
       "2      6974\n",
       "0      1565\n",
       "4       483\n",
       "Name: NUMOCCS, dtype: int64"
      ]
     },
     "metadata": {},
     "output_type": "display_data"
    },
    {
     "data": {
      "text/plain": [
       "2    348822\n",
       "1    200622\n",
       "0     69583\n",
       "Name: PERMVIT, dtype: int64"
      ]
     },
     "metadata": {},
     "output_type": "display_data"
    },
    {
     "data": {
      "text/plain": [
       "0    589234\n",
       "1     29793\n",
       "Name: PERNOTMVIT, dtype: int64"
      ]
     },
     "metadata": {},
     "output_type": "display_data"
    },
    {
     "data": {
      "text/plain": [
       "2    456292\n",
       "1    162609\n",
       "0       126\n",
       "Name: PER_TYP, dtype: int64"
      ]
     },
     "metadata": {},
     "output_type": "display_data"
    },
    {
     "data": {
      "text/plain": [
       "4    126842\n",
       "2    124293\n",
       "1    124066\n",
       "3    123780\n",
       "0    120046\n",
       "Name: PJ, dtype: int64"
      ]
     },
     "metadata": {},
     "output_type": "display_data"
    },
    {
     "data": {
      "text/plain": [
       "3    134421\n",
       "4    132084\n",
       "0    118700\n",
       "2    118444\n",
       "1    115378\n",
       "Name: PSU, dtype: int64"
      ]
     },
     "metadata": {},
     "output_type": "display_data"
    },
    {
     "data": {
      "text/plain": [
       "0    603745\n",
       "1     15282\n",
       "Name: PVH_INVL, dtype: int64"
      ]
     },
     "metadata": {},
     "output_type": "display_data"
    },
    {
     "data": {
      "text/plain": [
       "3    336845\n",
       "2    109989\n",
       "4    102472\n",
       "1     69721\n",
       "Name: REGION, dtype: int64"
      ]
     },
     "metadata": {},
     "output_type": "display_data"
    },
    {
     "data": {
      "text/plain": [
       "0    437984\n",
       "8    161319\n",
       "1     19460\n",
       "9       264\n",
       "Name: RELJCT1, dtype: int64"
      ]
     },
     "metadata": {},
     "output_type": "display_data"
    },
    {
     "data": {
      "text/plain": [
       "1    251423\n",
       "0    168063\n",
       "3    146673\n",
       "2     52868\n",
       "Name: RELJCT2, dtype: int64"
      ]
     },
     "metadata": {},
     "output_type": "display_data"
    },
    {
     "data": {
      "text/plain": [
       "1    549305\n",
       "0     60920\n",
       "2      8802\n",
       "Name: REL_ROAD, dtype: int64"
      ]
     },
     "metadata": {},
     "output_type": "display_data"
    },
    {
     "data": {
      "text/plain": [
       "0    615928\n",
       "1      3099\n",
       "Name: SCH_BUS, dtype: int64"
      ]
     },
     "metadata": {},
     "output_type": "display_data"
    },
    {
     "data": {
      "text/plain": [
       "1    345482\n",
       "0    273545\n",
       "Name: SEX, dtype: int64"
      ]
     },
     "metadata": {},
     "output_type": "display_data"
    },
    {
     "data": {
      "text/plain": [
       "1    343683\n",
       "2    204623\n",
       "0     66083\n",
       "3      4638\n",
       "Name: TYP_INT, dtype: int64"
      ]
     },
     "metadata": {},
     "output_type": "display_data"
    },
    {
     "data": {
      "text/plain": [
       "1    481918\n",
       "2    137109\n",
       "Name: URBANICITY, dtype: int64"
      ]
     },
     "metadata": {},
     "output_type": "display_data"
    },
    {
     "data": {
      "text/plain": [
       "1    555113\n",
       "0     48321\n",
       "2     15593\n",
       "Name: VALIGN, dtype: int64"
      ]
     },
     "metadata": {},
     "output_type": "display_data"
    },
    {
     "data": {
      "text/plain": [
       "0.0    199282\n",
       "1.0    155216\n",
       "2.0    132304\n",
       "3.0     90266\n",
       "4.0     41959\n",
       "Name: VEH_AGE, dtype: int64"
      ]
     },
     "metadata": {},
     "output_type": "display_data"
    },
    {
     "data": {
      "text/plain": [
       "2    423804\n",
       "1    107796\n",
       "3     65694\n",
       "4     21733\n",
       "Name: VE_FORMS, dtype: int64"
      ]
     },
     "metadata": {},
     "output_type": "display_data"
    },
    {
     "data": {
      "text/plain": [
       "2    431474\n",
       "1     95724\n",
       "3     68682\n",
       "4     23147\n",
       "Name: VE_TOTAL, dtype: int64"
      ]
     },
     "metadata": {},
     "output_type": "display_data"
    },
    {
     "data": {
      "text/plain": [
       "1    528304\n",
       "2     58774\n",
       "0     31949\n",
       "Name: VPROFILE, dtype: int64"
      ]
     },
     "metadata": {},
     "output_type": "display_data"
    },
    {
     "data": {
      "text/plain": [
       "2    170164\n",
       "7    134614\n",
       "5    102842\n",
       "1     81817\n",
       "4     60440\n",
       "0     58578\n",
       "3     10572\n",
       "Name: VSPD_LIM, dtype: int64"
      ]
     },
     "metadata": {},
     "output_type": "display_data"
    },
    {
     "data": {
      "text/plain": [
       "1    508134\n",
       "2     81404\n",
       "3     27839\n",
       "0      1650\n",
       "Name: VSURCOND, dtype: int64"
      ]
     },
     "metadata": {},
     "output_type": "display_data"
    },
    {
     "data": {
      "text/plain": [
       "1    400366\n",
       "2    144639\n",
       "3     62181\n",
       "0     11841\n",
       "Name: VTRAFCON, dtype: int64"
      ]
     },
     "metadata": {},
     "output_type": "display_data"
    },
    {
     "data": {
      "text/plain": [
       "0    336731\n",
       "3    122470\n",
       "1     87216\n",
       "4     43374\n",
       "2     29236\n",
       "Name: VTRAFWAY, dtype: int64"
      ]
     },
     "metadata": {},
     "output_type": "display_data"
    },
    {
     "data": {
      "text/plain": [
       "1    461159\n",
       "3     89628\n",
       "2     54953\n",
       "4     10500\n",
       "0      2787\n",
       "Name: WEATHER, dtype: int64"
      ]
     },
     "metadata": {},
     "output_type": "display_data"
    },
    {
     "data": {
      "text/plain": [
       "0    606925\n",
       "1     11193\n",
       "2       750\n",
       "3       159\n",
       "Name: WRK_ZONE, dtype: int64"
      ]
     },
     "metadata": {},
     "output_type": "display_data"
    },
    {
     "data": {
      "text/plain": [
       "2017    133408\n",
       "2019    129980\n",
       "2020    126460\n",
       "2018    115774\n",
       "2016    113405\n",
       "Name: YEAR, dtype: int64"
      ]
     },
     "metadata": {},
     "output_type": "display_data"
    }
   ],
   "source": [
    "def Thin_Features(data):\n",
    "    print ('Thin_Features()')\n",
    "\n",
    "    Merge = [\n",
    "        'CASENUM',\n",
    "        'VEH_NO',\n",
    "        'PER_NO',        \n",
    "    ]\n",
    "\n",
    "    Accident = [\n",
    "        'DAY_WEEK',\n",
    "        'HOUR',\n",
    "        'INT_HWY',\n",
    "        'LGT_COND',\n",
    "        'MONTH',\n",
    "#        'PEDS',\n",
    "        'PERMVIT',\n",
    "        'PERNOTMVIT',\n",
    "        'PJ',\n",
    "        'PSU',\n",
    "        'PVH_INVL',\n",
    "        'REGION',\n",
    "        'REL_ROAD',\n",
    "        'RELJCT1',\n",
    "        'RELJCT2',\n",
    "        'SCH_BUS',\n",
    "        'TYP_INT',\n",
    "        'URBANICITY',\n",
    "        'VE_FORMS',\n",
    "        'VE_TOTAL',\n",
    "        'WEATHER',\n",
    "        'WRK_ZONE',\n",
    "        'YEAR',\n",
    "    ]\n",
    "    \n",
    "    Vehicle = [\n",
    "        'BODY_TYP',\n",
    "        'BUS_USE',\n",
    "        'EMER_USE',\n",
    "        'MAKE',\n",
    "#        'MOD_YEAR',\n",
    "        'MODEL',\n",
    "        'NUMOCCS',\n",
    "        'VALIGN',\n",
    "        'VNUM_LAN',\n",
    "        'VPROFILE',\n",
    "        'VSPD_LIM',\n",
    "        'VSURCOND',\n",
    "        'VTRAFCON',\n",
    "        'VTRAFWAY',\n",
    "    ]\n",
    "    \n",
    "    Person = [\n",
    "        'AGE',\n",
    "        'LOCATION',\n",
    "        'PER_TYP',\n",
    "        'SEX',\n",
    "        'HOSPITAL',    \n",
    "    ]\n",
    "\n",
    "    Engineered = [\n",
    "        'VEH_AGE',\n",
    "        'AGE_x_SEX',\n",
    "        'AGE_x_SCH_BUS'\n",
    "    ]\n",
    "    \n",
    "    # Put features in alphabetical order\n",
    "    Features = Accident + Vehicle + Person + Engineered\n",
    "    Features = sorted(Features)\n",
    "#    Features = Merge + Features\n",
    "    \n",
    "    data = data.filter(Features, axis=1)\n",
    "    \n",
    "    print ('data.shape: ', data.shape)\n",
    "    \n",
    "    print ('End Thin_Features()')\n",
    "    print ()\n",
    "        \n",
    "    return data\n",
    "\n",
    "def Test_Thin_Features():\n",
    "    data = Get_Data()\n",
    "    data = Thin_Features(data)\n",
    "    for feature in data:\n",
    "        display(data[feature].value_counts())\n",
    "        \n",
    "Test_Thin_Features()"
   ]
  },
  {
   "cell_type": "markdown",
   "id": "2e759eda",
   "metadata": {},
   "source": [
    "## Really Thin Features"
   ]
  },
  {
   "cell_type": "code",
   "execution_count": 7,
   "id": "b4202cae",
   "metadata": {},
   "outputs": [
    {
     "name": "stdout",
     "output_type": "stream",
     "text": [
      "Get_Data()\n",
      "data.shape:  (619027, 82)\n",
      "End Get_Data()\n",
      "\n",
      "Thin_Features()\n",
      "data.shape:  (619027, 39)\n",
      "End Thin_Features()\n",
      "\n"
     ]
    },
    {
     "data": {
      "text/plain": [
       "2    395203\n",
       "3    111949\n",
       "0     47951\n",
       "1     42134\n",
       "4     21790\n",
       "Name: AGE, dtype: int64"
      ]
     },
     "metadata": {},
     "output_type": "display_data"
    },
    {
     "data": {
      "text/plain": [
       "1    221301\n",
       "5    153085\n",
       "3     92952\n",
       "2     59376\n",
       "0     46961\n",
       "4     45352\n",
       "Name: BODY_TYP, dtype: int64"
      ]
     },
     "metadata": {},
     "output_type": "display_data"
    },
    {
     "data": {
      "text/plain": [
       "1    616201\n",
       "2      2699\n",
       "0       127\n",
       "Name: BUS_USE, dtype: int64"
      ]
     },
     "metadata": {},
     "output_type": "display_data"
    },
    {
     "data": {
      "text/plain": [
       "1    465260\n",
       "0    153767\n",
       "Name: DAY_WEEK, dtype: int64"
      ]
     },
     "metadata": {},
     "output_type": "display_data"
    },
    {
     "data": {
      "text/plain": [
       "1    617091\n",
       "0      1186\n",
       "2       750\n",
       "Name: EMER_USE, dtype: int64"
      ]
     },
     "metadata": {},
     "output_type": "display_data"
    },
    {
     "data": {
      "text/plain": [
       "0    529840\n",
       "1     89187\n",
       "Name: HOSPITAL, dtype: int64"
      ]
     },
     "metadata": {},
     "output_type": "display_data"
    },
    {
     "data": {
      "text/plain": [
       "3    165476\n",
       "2    150963\n",
       "1    106547\n",
       "4     73637\n",
       "5     59088\n",
       "6     40804\n",
       "0     22512\n",
       "Name: HOUR, dtype: int64"
      ]
     },
     "metadata": {},
     "output_type": "display_data"
    },
    {
     "data": {
      "text/plain": [
       "0    555566\n",
       "1     63461\n",
       "Name: INT_HWY, dtype: int64"
      ]
     },
     "metadata": {},
     "output_type": "display_data"
    },
    {
     "data": {
      "text/plain": [
       "3    445496\n",
       "1    108465\n",
       "0     50350\n",
       "2     14716\n",
       "Name: LGT_COND, dtype: int64"
      ]
     },
     "metadata": {},
     "output_type": "display_data"
    },
    {
     "data": {
      "text/plain": [
       "8    135069\n",
       "0    121558\n",
       "1     86857\n",
       "6     81273\n",
       "2     76578\n",
       "4     71217\n",
       "7     24997\n",
       "3     12328\n",
       "5      9150\n",
       "Name: MAKE, dtype: int64"
      ]
     },
     "metadata": {},
     "output_type": "display_data"
    },
    {
     "data": {
      "text/plain": [
       "1    145569\n",
       "4    136958\n",
       "3    122451\n",
       "2    112129\n",
       "0    101920\n",
       "Name: MODEL, dtype: int64"
      ]
     },
     "metadata": {},
     "output_type": "display_data"
    },
    {
     "data": {
      "text/plain": [
       "2    216711\n",
       "1    208215\n",
       "0    194101\n",
       "Name: MONTH, dtype: int64"
      ]
     },
     "metadata": {},
     "output_type": "display_data"
    },
    {
     "data": {
      "text/plain": [
       "3    348269\n",
       "1    147867\n",
       "5     62203\n",
       "6     51666\n",
       "2      6974\n",
       "0      1565\n",
       "4       483\n",
       "Name: NUMOCCS, dtype: int64"
      ]
     },
     "metadata": {},
     "output_type": "display_data"
    },
    {
     "data": {
      "text/plain": [
       "2    348822\n",
       "1    200622\n",
       "0     69583\n",
       "Name: PERMVIT, dtype: int64"
      ]
     },
     "metadata": {},
     "output_type": "display_data"
    },
    {
     "data": {
      "text/plain": [
       "0    589234\n",
       "1     29793\n",
       "Name: PERNOTMVIT, dtype: int64"
      ]
     },
     "metadata": {},
     "output_type": "display_data"
    },
    {
     "data": {
      "text/plain": [
       "2    456292\n",
       "1    162609\n",
       "0       126\n",
       "Name: PER_TYP, dtype: int64"
      ]
     },
     "metadata": {},
     "output_type": "display_data"
    },
    {
     "data": {
      "text/plain": [
       "4    126842\n",
       "2    124293\n",
       "1    124066\n",
       "3    123780\n",
       "0    120046\n",
       "Name: PJ, dtype: int64"
      ]
     },
     "metadata": {},
     "output_type": "display_data"
    },
    {
     "data": {
      "text/plain": [
       "3    134421\n",
       "4    132084\n",
       "0    118700\n",
       "2    118444\n",
       "1    115378\n",
       "Name: PSU, dtype: int64"
      ]
     },
     "metadata": {},
     "output_type": "display_data"
    },
    {
     "data": {
      "text/plain": [
       "0    603745\n",
       "1     15282\n",
       "Name: PVH_INVL, dtype: int64"
      ]
     },
     "metadata": {},
     "output_type": "display_data"
    },
    {
     "data": {
      "text/plain": [
       "3    336845\n",
       "2    109989\n",
       "4    102472\n",
       "1     69721\n",
       "Name: REGION, dtype: int64"
      ]
     },
     "metadata": {},
     "output_type": "display_data"
    },
    {
     "data": {
      "text/plain": [
       "0    437984\n",
       "8    161319\n",
       "1     19460\n",
       "9       264\n",
       "Name: RELJCT1, dtype: int64"
      ]
     },
     "metadata": {},
     "output_type": "display_data"
    },
    {
     "data": {
      "text/plain": [
       "1    251423\n",
       "0    168063\n",
       "3    146673\n",
       "2     52868\n",
       "Name: RELJCT2, dtype: int64"
      ]
     },
     "metadata": {},
     "output_type": "display_data"
    },
    {
     "data": {
      "text/plain": [
       "1    549305\n",
       "0     60920\n",
       "2      8802\n",
       "Name: REL_ROAD, dtype: int64"
      ]
     },
     "metadata": {},
     "output_type": "display_data"
    },
    {
     "data": {
      "text/plain": [
       "0    615928\n",
       "1      3099\n",
       "Name: SCH_BUS, dtype: int64"
      ]
     },
     "metadata": {},
     "output_type": "display_data"
    },
    {
     "data": {
      "text/plain": [
       "1    345482\n",
       "0    273545\n",
       "Name: SEX, dtype: int64"
      ]
     },
     "metadata": {},
     "output_type": "display_data"
    },
    {
     "data": {
      "text/plain": [
       "1    343683\n",
       "2    204623\n",
       "0     66083\n",
       "3      4638\n",
       "Name: TYP_INT, dtype: int64"
      ]
     },
     "metadata": {},
     "output_type": "display_data"
    },
    {
     "data": {
      "text/plain": [
       "1    481918\n",
       "2    137109\n",
       "Name: URBANICITY, dtype: int64"
      ]
     },
     "metadata": {},
     "output_type": "display_data"
    },
    {
     "data": {
      "text/plain": [
       "1    555113\n",
       "0     48321\n",
       "2     15593\n",
       "Name: VALIGN, dtype: int64"
      ]
     },
     "metadata": {},
     "output_type": "display_data"
    },
    {
     "data": {
      "text/plain": [
       "0.0    199282\n",
       "1.0    155216\n",
       "2.0    132304\n",
       "3.0     90266\n",
       "4.0     41959\n",
       "Name: VEH_AGE, dtype: int64"
      ]
     },
     "metadata": {},
     "output_type": "display_data"
    },
    {
     "data": {
      "text/plain": [
       "2    423804\n",
       "1    107796\n",
       "3     65694\n",
       "4     21733\n",
       "Name: VE_FORMS, dtype: int64"
      ]
     },
     "metadata": {},
     "output_type": "display_data"
    },
    {
     "data": {
      "text/plain": [
       "2    431474\n",
       "1     95724\n",
       "3     68682\n",
       "4     23147\n",
       "Name: VE_TOTAL, dtype: int64"
      ]
     },
     "metadata": {},
     "output_type": "display_data"
    },
    {
     "data": {
      "text/plain": [
       "1    528304\n",
       "2     58774\n",
       "0     31949\n",
       "Name: VPROFILE, dtype: int64"
      ]
     },
     "metadata": {},
     "output_type": "display_data"
    },
    {
     "data": {
      "text/plain": [
       "2    170164\n",
       "7    134614\n",
       "5    102842\n",
       "1     81817\n",
       "4     60440\n",
       "0     58578\n",
       "3     10572\n",
       "Name: VSPD_LIM, dtype: int64"
      ]
     },
     "metadata": {},
     "output_type": "display_data"
    },
    {
     "data": {
      "text/plain": [
       "1    508134\n",
       "2     81404\n",
       "3     27839\n",
       "0      1650\n",
       "Name: VSURCOND, dtype: int64"
      ]
     },
     "metadata": {},
     "output_type": "display_data"
    },
    {
     "data": {
      "text/plain": [
       "1    400366\n",
       "2    144639\n",
       "3     62181\n",
       "0     11841\n",
       "Name: VTRAFCON, dtype: int64"
      ]
     },
     "metadata": {},
     "output_type": "display_data"
    },
    {
     "data": {
      "text/plain": [
       "0    336731\n",
       "3    122470\n",
       "1     87216\n",
       "4     43374\n",
       "2     29236\n",
       "Name: VTRAFWAY, dtype: int64"
      ]
     },
     "metadata": {},
     "output_type": "display_data"
    },
    {
     "data": {
      "text/plain": [
       "1    461159\n",
       "3     89628\n",
       "2     54953\n",
       "4     10500\n",
       "0      2787\n",
       "Name: WEATHER, dtype: int64"
      ]
     },
     "metadata": {},
     "output_type": "display_data"
    },
    {
     "data": {
      "text/plain": [
       "0    606925\n",
       "1     11193\n",
       "2       750\n",
       "3       159\n",
       "Name: WRK_ZONE, dtype: int64"
      ]
     },
     "metadata": {},
     "output_type": "display_data"
    },
    {
     "data": {
      "text/plain": [
       "2017    133408\n",
       "2019    129980\n",
       "2020    126460\n",
       "2018    115774\n",
       "2016    113405\n",
       "Name: YEAR, dtype: int64"
      ]
     },
     "metadata": {},
     "output_type": "display_data"
    }
   ],
   "source": [
    "def Really_Thin_Features(data):\n",
    "    print ('Really_Thin_Features()')\n",
    "\n",
    "    Merge = [\n",
    "        'CASENUM',\n",
    "        'VEH_NO',\n",
    "        'PER_NO',        \n",
    "    ]\n",
    "\n",
    "    Accident = [\n",
    "        'DAY_WEEK',\n",
    "        'HOUR',\n",
    "        'INT_HWY',\n",
    "#        'LGT_COND',\n",
    "        'MONTH',\n",
    "#        'PEDS',\n",
    "        'PERMVIT',\n",
    "        'PERNOTMVIT',\n",
    "        'PJ',\n",
    "        'PSU',\n",
    "#        'PVH_INVL',\n",
    "        'REGION',\n",
    "        'REL_ROAD',\n",
    "        'RELJCT1',\n",
    "#        'RELJCT2',\n",
    "#        'SCH_BUS',\n",
    "        'TYP_INT',\n",
    "        'URBANICITY',\n",
    "#        'VE_FORMS',\n",
    "#        'VE_TOTAL',\n",
    "        'WEATHER',\n",
    "#        'WRK_ZONE',\n",
    "        'YEAR',\n",
    "    ]\n",
    "    \n",
    "    Vehicle = [\n",
    "#        'BODY_TYP',\n",
    "#        'BUS_USE',\n",
    "#        'EMER_USE',\n",
    "#        'MAKE',\n",
    "#        'MOD_YEAR',\n",
    "#        'MODEL',\n",
    "#        'NUMOCCS',\n",
    "        'VALIGN',\n",
    "        'VNUM_LAN',\n",
    "        'VPROFILE',\n",
    "        'VSPD_LIM',\n",
    "        'VSURCOND',\n",
    "        'VTRAFCON',\n",
    "        'VTRAFWAY',\n",
    "    ]\n",
    "    \n",
    "    Person = [\n",
    "        'AGE',\n",
    "#        'LOCATION',\n",
    "#        'PER_TYP',\n",
    "        'SEX',\n",
    "        'HOSPITAL',    \n",
    "    ]\n",
    "\n",
    "    Engineered = [\n",
    "#        'VEH_AGE',\n",
    "        'AGE_x_SEX',\n",
    "#        'AGE_x_SCH_BUS'\n",
    "    ]\n",
    "    \n",
    "    # Put features in alphabetical order\n",
    "    Features = Accident + Vehicle + Person + Engineered\n",
    "    Features = sorted(Features)\n",
    "#    Features = Merge + Features\n",
    "    \n",
    "    data = data.filter(Features, axis=1)\n",
    "    \n",
    "    print ('data.shape: ', data.shape)\n",
    "    \n",
    "    print ('End Thin_Features()')\n",
    "    print ()\n",
    "        \n",
    "    return data\n",
    "\n",
    "def Test_Thin_Features():\n",
    "    data = Get_Data()\n",
    "    data = Thin_Features(data)\n",
    "    for feature in data:\n",
    "        display(data[feature].value_counts())\n",
    "        \n",
    "Test_Thin_Features()"
   ]
  },
  {
   "cell_type": "markdown",
   "id": "52366e1a",
   "metadata": {},
   "source": [
    "## Get Dummies"
   ]
  },
  {
   "cell_type": "code",
   "execution_count": 8,
   "id": "47cefa1f",
   "metadata": {},
   "outputs": [
    {
     "name": "stdout",
     "output_type": "stream",
     "text": [
      "Test_Get_Dummies\n",
      "Get_Dummies\n",
      "\n"
     ]
    },
    {
     "data": {
      "text/html": [
       "<div>\n",
       "<style scoped>\n",
       "    .dataframe tbody tr th:only-of-type {\n",
       "        vertical-align: middle;\n",
       "    }\n",
       "\n",
       "    .dataframe tbody tr th {\n",
       "        vertical-align: top;\n",
       "    }\n",
       "\n",
       "    .dataframe thead th {\n",
       "        text-align: right;\n",
       "    }\n",
       "</style>\n",
       "<table border=\"1\" class=\"dataframe\">\n",
       "  <thead>\n",
       "    <tr style=\"text-align: right;\">\n",
       "      <th></th>\n",
       "      <th>A_a</th>\n",
       "      <th>A_b</th>\n",
       "      <th>B_a</th>\n",
       "      <th>B_b</th>\n",
       "      <th>B_c</th>\n",
       "      <th>C</th>\n",
       "    </tr>\n",
       "  </thead>\n",
       "  <tbody>\n",
       "    <tr>\n",
       "      <th>0</th>\n",
       "      <td>1</td>\n",
       "      <td>0</td>\n",
       "      <td>0</td>\n",
       "      <td>1</td>\n",
       "      <td>0</td>\n",
       "      <td>1</td>\n",
       "    </tr>\n",
       "    <tr>\n",
       "      <th>1</th>\n",
       "      <td>0</td>\n",
       "      <td>1</td>\n",
       "      <td>1</td>\n",
       "      <td>0</td>\n",
       "      <td>0</td>\n",
       "      <td>2</td>\n",
       "    </tr>\n",
       "    <tr>\n",
       "      <th>2</th>\n",
       "      <td>1</td>\n",
       "      <td>0</td>\n",
       "      <td>0</td>\n",
       "      <td>0</td>\n",
       "      <td>1</td>\n",
       "      <td>3</td>\n",
       "    </tr>\n",
       "  </tbody>\n",
       "</table>\n",
       "</div>"
      ],
      "text/plain": [
       "   A_a  A_b  B_a  B_b  B_c  C\n",
       "0    1    0    0    1    0  1\n",
       "1    0    1    1    0    0  2\n",
       "2    1    0    0    0    1  3"
      ]
     },
     "metadata": {},
     "output_type": "display_data"
    },
    {
     "name": "stdout",
     "output_type": "stream",
     "text": [
      "\n"
     ]
    }
   ],
   "source": [
    "def Get_Dummies(data, target):\n",
    "    print ('Get_Dummies')\n",
    "    data = data.astype('category')\n",
    "    Target = data.pop(target)\n",
    "    data_Dummies = pd.get_dummies(data, prefix = data.columns)\n",
    "    data_Dummies = data_Dummies.join(Target)\n",
    "#    for feature in data_Dummies:\n",
    "#        print (feature)\n",
    "    print ()\n",
    "\n",
    "    return data_Dummies\n",
    "\n",
    "def Test_Get_Dummies():\n",
    "    print ('Test_Get_Dummies')\n",
    "    A = pd.DataFrame({\n",
    "        'A': ['a', 'b', 'a'], \n",
    "        'B': ['b', 'a', 'c'], \n",
    "        'C': [1, 2, 3]})\n",
    "    C = Get_Dummies(A, 'C')\n",
    "    display(C)\n",
    "    print ()\n",
    "\n",
    "Test_Get_Dummies()"
   ]
  },
  {
   "cell_type": "markdown",
   "id": "41d43d6e",
   "metadata": {},
   "source": [
    "## Test-Train Split\n",
    "- We're using sklearn's train_test_split rather than Pandas's sample because the former has a 'stratify' option that will put the same proportion of HOSPITAL==1 into each set."
   ]
  },
  {
   "cell_type": "code",
   "execution_count": 9,
   "id": "490cfcd6",
   "metadata": {},
   "outputs": [],
   "source": [
    "def Split_Data(data, target, test_size):\n",
    "    print ('Split_Data()')\n",
    "    X = data.drop(columns=[target])\n",
    "    y = data[target]\n",
    "    x_train, x_test, y_train, y_test = train_test_split(\n",
    "        X, y, stratify=y, test_size=test_size, random_state=42\n",
    "    )\n",
    "    \n",
    "    a = y_train[y_train==1].shape[0]\n",
    "    b = y_test[y_test==1].shape[0]\n",
    "    print (\n",
    "        x_train.shape, \n",
    "        y_train.shape, a, round((a/(a+b)*100),2), '%')\n",
    "    print (\n",
    "        x_test.shape, \n",
    "        y_test.shape, b, round((b/(a+b)*100),2), '%'\n",
    "    )\n",
    "    print ()\n",
    "    \n",
    "    return x_train, x_test, y_train, y_test"
   ]
  },
  {
   "cell_type": "markdown",
   "id": "6c7b22f0",
   "metadata": {},
   "source": [
    "# Imbalanced Data Resampling"
   ]
  },
  {
   "cell_type": "markdown",
   "id": "e984f24a",
   "metadata": {},
   "source": [
    "## Tomek Links"
   ]
  },
  {
   "cell_type": "code",
   "execution_count": 10,
   "id": "a5a61c13",
   "metadata": {},
   "outputs": [],
   "source": [
    "def Tomek_Links(X_train, y_train):\n",
    "    print ('Tomek_Links()')\n",
    "    N = X_train.shape[0]\n",
    "    print ('X_train.shape before = ', X_train.shape)\n",
    "    print ('y_train.shape before = ', y_train.shape)\n",
    "    print ()\n",
    "    X_train, y_train = TomekLinks().fit_resample(X_train, y_train)\n",
    "    n = X_train.shape[0]\n",
    "    print ('X_train.shape after = ', X_train.shape)\n",
    "    print ('y_train.shape after = ', y_train.shape)\n",
    "    print ()\n",
    "    print ('Removed %d samples, or %.2f%% of the set.' % (N-n, (N-n)/N*100))\n",
    "    print ()\n",
    "    \n",
    "    return X_train, y_train"
   ]
  },
  {
   "cell_type": "markdown",
   "id": "a7ce9a6e",
   "metadata": {},
   "source": [
    "## Condensed Nearest Neighbor"
   ]
  },
  {
   "cell_type": "code",
   "execution_count": 11,
   "id": "05cfb8b6",
   "metadata": {},
   "outputs": [],
   "source": [
    "def Condensed_Nearest_Neighbour(X_train, y_train):\n",
    "    print ('Condensed_Nearest_Neighbour()')\n",
    "    N = X_train.shape[0]\n",
    "    print ('X_train.shape before = ', X_train.shape)\n",
    "    print ('y_train.shape before = ', y_train.shape)\n",
    "    print ()\n",
    "    X_train, y_train = CondensedNearestNeighbour().fit_resample(X_train, y_train)\n",
    "    n = X_train.shape[0]\n",
    "    print ('X_train.shape after = ', X_train.shape)\n",
    "    print ('y_train.shape after = ', y_train.shape)\n",
    "    print ()\n",
    "    print ('Removed %d samples, or %.2f%% of the set.' % (N-n, (N-n)/N*100))\n",
    "    print ()\n",
    "    \n",
    "    return X_train, y_train"
   ]
  },
  {
   "cell_type": "markdown",
   "id": "93129c5b",
   "metadata": {},
   "source": [
    "# Custom Metrics\n",
    "https://keras.io/api/metrics/"
   ]
  },
  {
   "cell_type": "markdown",
   "id": "b28552cd",
   "metadata": {},
   "source": [
    "## Balanced Accuracy"
   ]
  },
  {
   "cell_type": "code",
   "execution_count": 12,
   "id": "c0cc2410",
   "metadata": {},
   "outputs": [],
   "source": [
    "def Balanced_Accuracy(y_true, y_pred):\n",
    "    return K.mean(y_pred)"
   ]
  },
  {
   "cell_type": "code",
   "execution_count": 13,
   "id": "80d7ecc1",
   "metadata": {},
   "outputs": [],
   "source": [
    "# https://aakashgoel12.medium.com/how-to-add-user-defined-function-get-f1-score-in-keras-metrics-3013f979ce0d\n",
    "def get_f1(y_true, y_pred): #taken from old keras source code\n",
    "    true_positives = K.sum(K.round(K.clip(y_true * y_pred, 0, 1)))\n",
    "    possible_positives = K.sum(K.round(K.clip(y_true, 0, 1)))\n",
    "    predicted_positives = K.sum(K.round(K.clip(y_pred, 0, 1)))\n",
    "    precision = true_positives / (predicted_positives + K.epsilon())\n",
    "    recall = true_positives / (possible_positives + K.epsilon())\n",
    "    f1_val = 2*(precision*recall)/(precision+recall+K.epsilon())\n",
    "    return f1_val\n"
   ]
  },
  {
   "cell_type": "code",
   "execution_count": 14,
   "id": "5ae44b0a",
   "metadata": {},
   "outputs": [],
   "source": [
    "# https://neptune.ai/blog/implementing-the-macro-f1-score-in-keras\n",
    "### Define F1 measures: F1 = 2 * (precision * recall) / (precision + recall)\n",
    "\n",
    "def custom_f1(y_true, y_pred):\n",
    "    def recall_m(y_true, y_pred):\n",
    "        TP = K.sum(K.round(K.clip(y_true * y_pred, 0, 1)))\n",
    "        Positives = K.sum(K.round(K.clip(y_true, 0, 1)))\n",
    "\n",
    "        recall = TP / (Positives+K.epsilon())\n",
    "        return recall\n",
    "\n",
    "\n",
    "    def precision_m(y_true, y_pred):\n",
    "        TP = K.sum(K.round(K.clip(y_true * y_pred, 0, 1)))\n",
    "        Pred_Positives = K.sum(K.round(K.clip(y_pred, 0, 1)))\n",
    "\n",
    "        precision = TP / (Pred_Positives+K.epsilon())\n",
    "        return precision\n",
    "\n",
    "    precision, recall = precision_m(y_true, y_pred), recall_m(y_true, y_pred)\n",
    "\n",
    "    return 2*((precision*recall)/(precision+recall+K.epsilon()))"
   ]
  },
  {
   "cell_type": "code",
   "execution_count": 15,
   "id": "146c67d2",
   "metadata": {},
   "outputs": [
    {
     "data": {
      "text/plain": [
       "2.0"
      ]
     },
     "metadata": {},
     "output_type": "display_data"
    },
    {
     "data": {
      "text/plain": [
       "2.0"
      ]
     },
     "metadata": {},
     "output_type": "display_data"
    },
    {
     "data": {
      "text/plain": [
       "1.0"
      ]
     },
     "metadata": {},
     "output_type": "display_data"
    },
    {
     "data": {
      "text/plain": [
       "1.0"
      ]
     },
     "metadata": {},
     "output_type": "display_data"
    },
    {
     "data": {
      "text/plain": [
       "1.0"
      ]
     },
     "metadata": {},
     "output_type": "display_data"
    },
    {
     "data": {
      "text/plain": [
       "1.0"
      ]
     },
     "metadata": {},
     "output_type": "display_data"
    }
   ],
   "source": [
    "def custom_metric(y_true, y_pred):\n",
    "    y_true = tf.dtypes.cast(y_true, tf.float64)\n",
    "    y_pred = tf.dtypes.cast(y_pred, tf.float64)\n",
    "    P = K.sum(y_true)\n",
    "    N = K.sum(1 - y_true)\n",
    "    # Note that Tensorflow and Keras round using \"banker's rounding,\"\n",
    "    # where halves round to the nearest even integer, so\n",
    "    # round(0.5) = 0, but round (1.5) = 2\n",
    "    Discrete_y_pred = K.round(y_pred)\n",
    "    TRUE = K.equal(y_true, Discrete_y_pred)\n",
    "    TRUE = tf.dtypes.cast(TRUE, tf.float64)\n",
    "    FALSE = 1-TRUE\n",
    "    Discrete_TP = Discrete_y_pred * TRUE\n",
    "    TP = K.sum(Discrete_TP)\n",
    "    FN = P - TP\n",
    "    Discrete_TN = (1 - Discrete_y_pred) * TRUE\n",
    "    TN = K.sum(Discrete_TN)\n",
    "    FP = N - TN\n",
    "    \n",
    "    return P, N, TP, FN, TN, FP\n",
    "\n",
    "def Test_Custom_Metric():\n",
    "    y_true = [0.0,1.0,0.0,1.0]\n",
    "    y_pred = [0.2, 0.49, 0.75, 0.9]\n",
    "    y_true = np.array(y_true)\n",
    "    y_pred = np.array(y_pred)\n",
    "    y_true = tf.convert_to_tensor(y_true)\n",
    "    y_pred = tf.convert_to_tensor(y_pred)\n",
    "    P, N, TP, FN, TN, FP = custom_metric(y_true, y_pred)\n",
    "    display(P.numpy())\n",
    "    display(N.numpy())\n",
    "    display(TP.numpy())\n",
    "    display(FN.numpy())\n",
    "    display(TN.numpy())\n",
    "    display(FP.numpy())\n",
    "    \n",
    "Test_Custom_Metric()\n",
    "    "
   ]
  },
  {
   "cell_type": "code",
   "execution_count": 16,
   "id": "7527cec3",
   "metadata": {},
   "outputs": [],
   "source": [
    "def Accuracy_Metric(y_true, y_pred):\n",
    "    P, N, TP, FN, TN, FP = custom_metric(y_true, y_pred)\n",
    "    metric = (TP+TN)/(TP + FN + FP + TN + K.epsilon())\n",
    "    return metric"
   ]
  },
  {
   "cell_type": "code",
   "execution_count": 17,
   "id": "a24413b9",
   "metadata": {},
   "outputs": [],
   "source": [
    "def Precision_Metric(y_true, y_pred):\n",
    "    P, N, TP, FN, TN, FP = custom_metric(y_true, y_pred)\n",
    "    metric = TP/(TP + FP + K.epsilon())\n",
    "    return metric"
   ]
  },
  {
   "cell_type": "code",
   "execution_count": 18,
   "id": "8c8c0e11",
   "metadata": {},
   "outputs": [],
   "source": [
    "def Recall_Metric(y_true, y_pred):\n",
    "    P, N, TP, FN, TN, FP = custom_metric(y_true, y_pred)\n",
    "    metric = TP/(TP + FN + K.epsilon())\n",
    "    return metric"
   ]
  },
  {
   "cell_type": "code",
   "execution_count": 19,
   "id": "0defac89",
   "metadata": {},
   "outputs": [],
   "source": [
    "def Balanced_Accuracy_Metric(y_true, y_pred):\n",
    "    P, N, TP, FN, TN, FP = custom_metric(y_true, y_pred)\n",
    "    metric = ( TN/(2*(TN + FP + K.epsilon())) + TP/(2*(FN + TP + K.epsilon())))\n",
    "    return metric"
   ]
  },
  {
   "cell_type": "code",
   "execution_count": 20,
   "id": "9afe9e87",
   "metadata": {},
   "outputs": [],
   "source": [
    "def F1_Metric(y_true, y_pred):\n",
    "    precision = Precision_Metric(y_true, y_pred)\n",
    "    recall = Recall_Metric(y_true, y_pred)\n",
    "    metric = 2/(1/(precision + K.epsilon()) + 1/(recall + K.epsilon()))\n",
    "    return metric"
   ]
  },
  {
   "cell_type": "code",
   "execution_count": 21,
   "id": "604a0833",
   "metadata": {},
   "outputs": [],
   "source": [
    "def Gmean_Metric(y_true, y_pred):\n",
    "    P, N, TP, FN, TN, FP = custom_metric(y_true, y_pred)\n",
    "    precision = TP/(TP + FP + K.epsilon())\n",
    "    specificity = TN/(TN + FP + K.epsilon())\n",
    "    metric = K.sqrt(precision * specificity)\n",
    "    return metric"
   ]
  },
  {
   "cell_type": "code",
   "execution_count": 22,
   "id": "7d911f68",
   "metadata": {},
   "outputs": [],
   "source": [
    "def Balanced_Precision_Metric(y_true, y_pred):\n",
    "    P, N, TP, FN, TN, FP = custom_metric(y_true, y_pred)\n",
    "    metric = (TP * N)/(TP * N + FP * P + K.epsilon())\n",
    "    return metric"
   ]
  },
  {
   "cell_type": "code",
   "execution_count": 23,
   "id": "b1f07d0d",
   "metadata": {},
   "outputs": [],
   "source": [
    "def Balanced_F1_Metric(y_true, y_pred):\n",
    "    precision = Balanced_Precision_Metric(y_true, y_pred)\n",
    "    recall = Recall_Metric(y_true, y_pred)\n",
    "    metric = 2/(1/(precision + K.epsilon()) + 1/(recall + K.epsilon()))\n",
    "    return metric"
   ]
  },
  {
   "cell_type": "markdown",
   "id": "88dcfd4d",
   "metadata": {},
   "source": [
    "# Loss Functions"
   ]
  },
  {
   "cell_type": "markdown",
   "id": "c7cf4a61",
   "metadata": {},
   "source": [
    "## Alpha Weighted Binary Crossentropy"
   ]
  },
  {
   "cell_type": "code",
   "execution_count": 24,
   "id": "d3646fef",
   "metadata": {},
   "outputs": [],
   "source": [
    "def alpha_weighted_binary_crossentropy(y_true, y_pred):\n",
    "    p = 5.94\n",
    "    alpha = (p/(p+1))*1.0\n",
    "    # Note:  y_true has to be the same type as y_pred to use in the \"keras.backend.binary_crossentropy\" function below.\n",
    "    y_true = tf.cast(y_true, dtype=y_pred.dtype)\n",
    "\n",
    "\n",
    "    binary_crossentropy = keras.backend.binary_crossentropy(y_true, y_pred)\n",
    "#    print (binary_crossentropy.numpy())\n",
    "    weights = tf.where(tf.equal(y_true,1),alpha, 1-alpha)\n",
    "#    print (weights.numpy())\n",
    "    product = tf.multiply(binary_crossentropy, weights)\n",
    "#    print (product.numpy())\n",
    "    loss = keras.backend.mean(product)\n",
    "#    print (loss.numpy())\n",
    "#    print (loss)\n",
    "    return loss\n",
    "\n"
   ]
  },
  {
   "cell_type": "code",
   "execution_count": 25,
   "id": "a639e7c5",
   "metadata": {},
   "outputs": [],
   "source": [
    "def alpha_weighted_binary_crossentropy_with_parameters(p = 1.0):\n",
    "    def alpha_weighted_binary_crossentropy(y_true, y_pred):\n",
    "#        p = 5.94\n",
    "        alpha = (p/(p+1))*1.0\n",
    "        y_true = tf.cast(y_true, dtype=y_pred.dtype)\n",
    "\n",
    "        binary_crossentropy = keras.backend.binary_crossentropy(y_true, y_pred)\n",
    "        weights = tf.where(tf.equal(y_true,1),alpha, 1-alpha)\n",
    "        product = tf.multiply(binary_crossentropy, weights)\n",
    "        loss = keras.backend.mean(product)\n",
    "        return loss\n",
    "    return alpha_weighted_binary_crossentropy\n"
   ]
  },
  {
   "cell_type": "code",
   "execution_count": null,
   "id": "51fa3b4d",
   "metadata": {},
   "outputs": [],
   "source": []
  },
  {
   "cell_type": "markdown",
   "id": "f74dedab",
   "metadata": {},
   "source": [
    "## Focal Loss"
   ]
  },
  {
   "cell_type": "code",
   "execution_count": 26,
   "id": "f61cb331",
   "metadata": {},
   "outputs": [],
   "source": [
    "def focal_loss(y_true, y_pred):\n",
    "    # The dataset has  259077  elements.\n",
    "    # The target group has  31891  elements.\n",
    "    # Our target is  12.3095 % of the dataset.\n",
    "    # There are  8.12  negative elements for each positive.    \n",
    "#    p = 8.12\n",
    "    p = 5.94\n",
    "\n",
    "    alpha = (p/(p+1))*1.0\n",
    "\n",
    "    gamma_1 = 0.0 # Must be float for the tf.math.pow() function to work.\n",
    "    gamma_2 = 0.0\n",
    "    y_true = tf.cast(y_true, dtype=y_pred.dtype)\n",
    "    binary_crossentropy = keras.backend.binary_crossentropy(y_true, y_pred)\n",
    "#    print (binary_crossentropy.numpy())\n",
    "    weights = tf.where(tf.equal(y_true,1),alpha, 1-alpha)\n",
    "#    print (weights.numpy())\n",
    "    focal = tf.where(tf.equal(y_true,1), (1.0-y_pred), (y_pred))\n",
    "    power = tf.where(tf.equal(y_true,1), gamma_1, gamma_2)\n",
    "    focal_power = tf.math.pow(focal,power)\n",
    "#    print (focal.numpy())\n",
    "#    print (power.numpy())\n",
    "#    print (focal_power.numpy())\n",
    "    product = tf.multiply(binary_crossentropy, weights)\n",
    "    focal_power_product = tf.multiply(product, focal_power)\n",
    "#    print (focal_power_product.numpy())\n",
    "    loss = keras.backend.mean(focal_power_product)\n",
    "#    print (loss.numpy())\n",
    "    return loss"
   ]
  },
  {
   "cell_type": "markdown",
   "id": "efaef565",
   "metadata": {},
   "source": [
    "## Focal Loss with Parameters\n",
    "- Adapted from https://www.kaggle.com/code/abazdyrev/keras-nn-focal-loss-experiments"
   ]
  },
  {
   "cell_type": "code",
   "execution_count": 27,
   "id": "c48a20f8",
   "metadata": {},
   "outputs": [],
   "source": [
    "def focal_loss_with_parameters(p = 1.0, gamma_1=2.0, gamma_2=2.0):\n",
    "#    print ('focal_loss_with_parameters')\n",
    "#    print ('p = ', p, ' gamma_1 = ', gamma_1, ' gamma_2 = ', gamma_2)\n",
    "    def focal_loss(y_true, y_pred):\n",
    "#        print ('focal_loss')\n",
    "#        print ('alpha = ', alpha, ' gamma_1 = ', gamma_1, ' gamma_2 = ', gamma_2)\n",
    "\n",
    "        alpha = (p/(p+1))*1.0\n",
    "\n",
    "        y_true = tf.cast(y_true, dtype=y_pred.dtype)\n",
    "        binary_crossentropy = keras.backend.binary_crossentropy(y_true, y_pred)\n",
    "        weights = tf.where(tf.equal(y_true,1),alpha, 1-alpha)\n",
    "        focal = tf.where(tf.equal(y_true,1), (1.0-y_pred), (y_pred))\n",
    "        power = tf.where(tf.equal(y_true,1), gamma_1, gamma_2)\n",
    "        focal_power = tf.math.pow(focal,power)\n",
    "        product = tf.multiply(binary_crossentropy, weights)\n",
    "        focal_power_product = tf.multiply(product, focal_power)\n",
    "        loss = keras.backend.mean(focal_power_product)\n",
    "        return loss\n",
    "    \n",
    "    return focal_loss"
   ]
  },
  {
   "cell_type": "code",
   "execution_count": null,
   "id": "0b909c30",
   "metadata": {},
   "outputs": [],
   "source": []
  },
  {
   "cell_type": "markdown",
   "id": "c8a36e3f",
   "metadata": {},
   "source": [
    "# Make Model"
   ]
  },
  {
   "cell_type": "code",
   "execution_count": 28,
   "id": "3635b98c",
   "metadata": {},
   "outputs": [],
   "source": [
    "def Make_Model(X_train):\n",
    "    print ('Make_Model()')\n",
    "    model = keras.Sequential(\n",
    "        [\n",
    "            keras.layers.Dense(\n",
    "                256, activation=\"relu\", input_shape=(X_train.shape[-1],)\n",
    "            ),\n",
    "            keras.layers.Dense(256, activation=\"relu\"),\n",
    "            keras.layers.Dropout(0.3),\n",
    "            keras.layers.Dense(256, activation=\"relu\"),\n",
    "            keras.layers.Dropout(0.3),\n",
    "            keras.layers.Dense(1, activation=\"sigmoid\"),\n",
    "        ]\n",
    "    )\n",
    "    display(model.summary())\n",
    "    print ()\n",
    "    return model\n"
   ]
  },
  {
   "cell_type": "code",
   "execution_count": 29,
   "id": "78cb5f15",
   "metadata": {},
   "outputs": [],
   "source": [
    "def Train_Model (X_train, X_test, y_train, y_test, model, loss_function):\n",
    "    print ('Train_Model()')\n",
    "    metrics = [\n",
    "        keras.metrics.FalseNegatives(name=\"fn\"),\n",
    "        keras.metrics.FalsePositives(name=\"fp\"),\n",
    "        keras.metrics.TrueNegatives(name=\"tn\"),\n",
    "        keras.metrics.TruePositives(name=\"tp\"),\n",
    "        keras.metrics.Precision(name=\"precision\"),\n",
    "        keras.metrics.Recall(name=\"recall\"),\n",
    "        keras.metrics.BinaryAccuracy(name=\"accuracy\"),\n",
    "        Balanced_Accuracy_Metric,\n",
    "        Gmean_Metric,\n",
    "        Balanced_Precision_Metric,\n",
    "        F1_Metric,\n",
    "        Balanced_F1_Metric,\n",
    "    ]\n",
    "\n",
    "    model.compile(\n",
    "        optimizer=keras.optimizers.Adam(1e-2), loss=loss_function, metrics=metrics\n",
    "    )\n",
    "\n",
    "#    callbacks = [keras.callbacks.ModelCheckpoint(\"fraud_model_at_epoch_{epoch}.h5\")]\n",
    "#    class_weight = {0: weight_for_0, 1: weight_for_1}\n",
    "\n",
    "    model.fit(\n",
    "        X_train,\n",
    "        y_train,\n",
    "        batch_size=2048,\n",
    "        epochs=30,\n",
    "        verbose=2,\n",
    "#        callbacks=callbacks,\n",
    "        validation_data=(X_test, y_test),\n",
    "#        class_weight=class_weight,\n",
    "    )\n",
    "    \n",
    "    print ()\n",
    "\n",
    "    return model"
   ]
  },
  {
   "cell_type": "markdown",
   "id": "b91de86f",
   "metadata": {},
   "source": [
    "# AdaBoost Model\n",
    "https://stackoverflow.com/questions/39063676/how-to-boost-a-keras-based-neural-network-using-adaboost"
   ]
  },
  {
   "cell_type": "code",
   "execution_count": 30,
   "id": "764615d0",
   "metadata": {},
   "outputs": [],
   "source": [
    "def AdaBoost(X_train, X_test, y_train, y_test):\n",
    "    print ('AdaBoost()')\n",
    "    clf = AdaBoostClassifier(n_estimators=100)\n",
    "    clf.fit(X_test, y_test)\n",
    "    y_val = clf.predict(X_test)\n",
    "    print (clf.score(X_test, y_test))\n",
    "    P, N, TP, FN, TN, FP = custom_metric(y_test, y_val)\n",
    "    print ('TP = ', TP.numpy(), ' FN = ', FN.numpy(), ' FP = ', FP.numpy(), ' TN = ', TN.numpy())\n",
    "    print ('Accuracy_Metric: ', Accuracy_Metric(y_test, y_val).numpy())\n",
    "    print ('Balanced_Accuracy_Metric: ', Balanced_Accuracy_Metric(y_test, y_val).numpy())\n",
    "    print ('Precision_Metric: ', Precision_Metric(y_test, y_val).numpy())\n",
    "    print ('Balanced_Precision_Metric: ', Balanced_Precision_Metric(y_test, y_val).numpy())\n",
    "    print ('Recall_Metric: ', Recall_Metric(y_test, y_val).numpy())\n",
    "    print ('F1_Metric: ', F1_Metric(y_test, y_val).numpy())\n",
    "    print ('Balanced_F1_Metric: ', Balanced_F1_Metric(y_test, y_val).numpy())\n",
    "    print ('Gmean_Metric: ', Gmean_Metric(y_test, y_val).numpy())\n",
    "    "
   ]
  },
  {
   "cell_type": "markdown",
   "id": "7c238c61",
   "metadata": {},
   "source": [
    "# Main()"
   ]
  },
  {
   "cell_type": "code",
   "execution_count": 32,
   "id": "07093edf",
   "metadata": {
    "scrolled": true
   },
   "outputs": [
    {
     "name": "stdout",
     "output_type": "stream",
     "text": [
      "Get_Data()\n",
      "data.shape:  (619027, 82)\n",
      "End Get_Data()\n",
      "\n"
     ]
    },
    {
     "data": {
      "text/plain": [
       "0    591304\n",
       "1     26801\n",
       "2       922\n",
       "Name: PEDS, dtype: int64"
      ]
     },
     "metadata": {},
     "output_type": "display_data"
    },
    {
     "name": "stdout",
     "output_type": "stream",
     "text": [
      "Removing 27723 crashes that involve a pedestrian.\n",
      "Feature_Engineering_Cross_Two\n",
      "\n",
      "591304 samples, 88735 hospitalized, 502569 not hospitalized\n",
      "15.006663 percent of samples hospitalized\n",
      "There are 5.663707 negative samples for each positive.\n",
      "\n",
      "Thin_Features()\n",
      "data.shape:  (591304, 41)\n",
      "End Thin_Features()\n",
      "\n",
      "AGE\n",
      "AGE_x_SCH_BUS\n",
      "AGE_x_SEX\n",
      "BODY_TYP\n",
      "BUS_USE\n",
      "DAY_WEEK\n",
      "EMER_USE\n",
      "HOSPITAL\n",
      "HOUR\n",
      "INT_HWY\n",
      "LGT_COND\n",
      "MAKE\n",
      "MODEL\n",
      "MONTH\n",
      "NUMOCCS\n",
      "PERMVIT\n",
      "PERNOTMVIT\n",
      "PER_TYP\n",
      "PJ\n",
      "PSU\n",
      "PVH_INVL\n",
      "REGION\n",
      "RELJCT1\n",
      "RELJCT2\n",
      "REL_ROAD\n",
      "SCH_BUS\n",
      "SEX\n",
      "TYP_INT\n",
      "URBANICITY\n",
      "VALIGN\n",
      "VEH_AGE\n",
      "VE_FORMS\n",
      "VE_TOTAL\n",
      "VPROFILE\n",
      "VSPD_LIM\n",
      "VSURCOND\n",
      "VTRAFCON\n",
      "VTRAFWAY\n",
      "WEATHER\n",
      "WRK_ZONE\n",
      "YEAR\n",
      "\n",
      "Get_Dummies\n",
      "\n"
     ]
    },
    {
     "data": {
      "text/html": [
       "<div>\n",
       "<style scoped>\n",
       "    .dataframe tbody tr th:only-of-type {\n",
       "        vertical-align: middle;\n",
       "    }\n",
       "\n",
       "    .dataframe tbody tr th {\n",
       "        vertical-align: top;\n",
       "    }\n",
       "\n",
       "    .dataframe thead th {\n",
       "        text-align: right;\n",
       "    }\n",
       "</style>\n",
       "<table border=\"1\" class=\"dataframe\">\n",
       "  <thead>\n",
       "    <tr style=\"text-align: right;\">\n",
       "      <th></th>\n",
       "      <th>AGE_0</th>\n",
       "      <th>AGE_1</th>\n",
       "      <th>AGE_2</th>\n",
       "      <th>AGE_3</th>\n",
       "      <th>AGE_4</th>\n",
       "      <th>AGE_x_SCH_BUS_0_x_0</th>\n",
       "      <th>AGE_x_SCH_BUS_0_x_1</th>\n",
       "      <th>AGE_x_SCH_BUS_1_x_0</th>\n",
       "      <th>AGE_x_SCH_BUS_1_x_1</th>\n",
       "      <th>AGE_x_SCH_BUS_2_x_0</th>\n",
       "      <th>...</th>\n",
       "      <th>WRK_ZONE_0</th>\n",
       "      <th>WRK_ZONE_1</th>\n",
       "      <th>WRK_ZONE_2</th>\n",
       "      <th>WRK_ZONE_3</th>\n",
       "      <th>YEAR_2016</th>\n",
       "      <th>YEAR_2017</th>\n",
       "      <th>YEAR_2018</th>\n",
       "      <th>YEAR_2019</th>\n",
       "      <th>YEAR_2020</th>\n",
       "      <th>HOSPITAL</th>\n",
       "    </tr>\n",
       "  </thead>\n",
       "  <tbody>\n",
       "    <tr>\n",
       "      <th>0</th>\n",
       "      <td>0</td>\n",
       "      <td>0</td>\n",
       "      <td>1</td>\n",
       "      <td>0</td>\n",
       "      <td>0</td>\n",
       "      <td>0</td>\n",
       "      <td>0</td>\n",
       "      <td>0</td>\n",
       "      <td>0</td>\n",
       "      <td>1</td>\n",
       "      <td>...</td>\n",
       "      <td>1</td>\n",
       "      <td>0</td>\n",
       "      <td>0</td>\n",
       "      <td>0</td>\n",
       "      <td>0</td>\n",
       "      <td>1</td>\n",
       "      <td>0</td>\n",
       "      <td>0</td>\n",
       "      <td>0</td>\n",
       "      <td>0</td>\n",
       "    </tr>\n",
       "    <tr>\n",
       "      <th>1</th>\n",
       "      <td>0</td>\n",
       "      <td>0</td>\n",
       "      <td>1</td>\n",
       "      <td>0</td>\n",
       "      <td>0</td>\n",
       "      <td>0</td>\n",
       "      <td>0</td>\n",
       "      <td>0</td>\n",
       "      <td>0</td>\n",
       "      <td>1</td>\n",
       "      <td>...</td>\n",
       "      <td>1</td>\n",
       "      <td>0</td>\n",
       "      <td>0</td>\n",
       "      <td>0</td>\n",
       "      <td>0</td>\n",
       "      <td>0</td>\n",
       "      <td>1</td>\n",
       "      <td>0</td>\n",
       "      <td>0</td>\n",
       "      <td>0</td>\n",
       "    </tr>\n",
       "    <tr>\n",
       "      <th>2</th>\n",
       "      <td>0</td>\n",
       "      <td>0</td>\n",
       "      <td>1</td>\n",
       "      <td>0</td>\n",
       "      <td>0</td>\n",
       "      <td>0</td>\n",
       "      <td>0</td>\n",
       "      <td>0</td>\n",
       "      <td>0</td>\n",
       "      <td>1</td>\n",
       "      <td>...</td>\n",
       "      <td>1</td>\n",
       "      <td>0</td>\n",
       "      <td>0</td>\n",
       "      <td>0</td>\n",
       "      <td>0</td>\n",
       "      <td>0</td>\n",
       "      <td>0</td>\n",
       "      <td>1</td>\n",
       "      <td>0</td>\n",
       "      <td>0</td>\n",
       "    </tr>\n",
       "    <tr>\n",
       "      <th>3</th>\n",
       "      <td>0</td>\n",
       "      <td>0</td>\n",
       "      <td>1</td>\n",
       "      <td>0</td>\n",
       "      <td>0</td>\n",
       "      <td>0</td>\n",
       "      <td>0</td>\n",
       "      <td>0</td>\n",
       "      <td>0</td>\n",
       "      <td>1</td>\n",
       "      <td>...</td>\n",
       "      <td>1</td>\n",
       "      <td>0</td>\n",
       "      <td>0</td>\n",
       "      <td>0</td>\n",
       "      <td>0</td>\n",
       "      <td>1</td>\n",
       "      <td>0</td>\n",
       "      <td>0</td>\n",
       "      <td>0</td>\n",
       "      <td>0</td>\n",
       "    </tr>\n",
       "    <tr>\n",
       "      <th>4</th>\n",
       "      <td>0</td>\n",
       "      <td>0</td>\n",
       "      <td>1</td>\n",
       "      <td>0</td>\n",
       "      <td>0</td>\n",
       "      <td>0</td>\n",
       "      <td>0</td>\n",
       "      <td>0</td>\n",
       "      <td>0</td>\n",
       "      <td>1</td>\n",
       "      <td>...</td>\n",
       "      <td>1</td>\n",
       "      <td>0</td>\n",
       "      <td>0</td>\n",
       "      <td>0</td>\n",
       "      <td>0</td>\n",
       "      <td>0</td>\n",
       "      <td>0</td>\n",
       "      <td>1</td>\n",
       "      <td>0</td>\n",
       "      <td>0</td>\n",
       "    </tr>\n",
       "  </tbody>\n",
       "</table>\n",
       "<p>5 rows × 175 columns</p>\n",
       "</div>"
      ],
      "text/plain": [
       "   AGE_0  AGE_1  AGE_2  AGE_3  AGE_4  AGE_x_SCH_BUS_0_x_0  \\\n",
       "0      0      0      1      0      0                    0   \n",
       "1      0      0      1      0      0                    0   \n",
       "2      0      0      1      0      0                    0   \n",
       "3      0      0      1      0      0                    0   \n",
       "4      0      0      1      0      0                    0   \n",
       "\n",
       "   AGE_x_SCH_BUS_0_x_1  AGE_x_SCH_BUS_1_x_0  AGE_x_SCH_BUS_1_x_1  \\\n",
       "0                    0                    0                    0   \n",
       "1                    0                    0                    0   \n",
       "2                    0                    0                    0   \n",
       "3                    0                    0                    0   \n",
       "4                    0                    0                    0   \n",
       "\n",
       "   AGE_x_SCH_BUS_2_x_0  ...  WRK_ZONE_0  WRK_ZONE_1  WRK_ZONE_2  WRK_ZONE_3  \\\n",
       "0                    1  ...           1           0           0           0   \n",
       "1                    1  ...           1           0           0           0   \n",
       "2                    1  ...           1           0           0           0   \n",
       "3                    1  ...           1           0           0           0   \n",
       "4                    1  ...           1           0           0           0   \n",
       "\n",
       "   YEAR_2016  YEAR_2017  YEAR_2018  YEAR_2019  YEAR_2020  HOSPITAL  \n",
       "0          0          1          0          0          0         0  \n",
       "1          0          0          1          0          0         0  \n",
       "2          0          0          0          1          0         0  \n",
       "3          0          1          0          0          0         0  \n",
       "4          0          0          0          1          0         0  \n",
       "\n",
       "[5 rows x 175 columns]"
      ]
     },
     "metadata": {},
     "output_type": "display_data"
    },
    {
     "name": "stdout",
     "output_type": "stream",
     "text": [
      "Split_Data()\n",
      "(413912, 174) (413912,) 62114 70.0 %\n",
      "(177392, 174) (177392,) 26621 30.0 %\n",
      "\n",
      "X_train.shape =  (413912, 174)\n",
      "X_test.shape =  (177392, 174)\n",
      "y_train.shape =  (413912,)\n",
      "y_test.shape =  (177392,)\n",
      "\n",
      "Make_Model()\n",
      "Model: \"sequential_1\"\n",
      "_________________________________________________________________\n",
      " Layer (type)                Output Shape              Param #   \n",
      "=================================================================\n",
      " dense_4 (Dense)             (None, 256)               44800     \n",
      "                                                                 \n",
      " dense_5 (Dense)             (None, 256)               65792     \n",
      "                                                                 \n",
      " dropout_2 (Dropout)         (None, 256)               0         \n",
      "                                                                 \n",
      " dense_6 (Dense)             (None, 256)               65792     \n",
      "                                                                 \n",
      " dropout_3 (Dropout)         (None, 256)               0         \n",
      "                                                                 \n",
      " dense_7 (Dense)             (None, 1)                 257       \n",
      "                                                                 \n",
      "=================================================================\n",
      "Total params: 176,641\n",
      "Trainable params: 176,641\n",
      "Non-trainable params: 0\n",
      "_________________________________________________________________\n"
     ]
    },
    {
     "data": {
      "text/plain": [
       "None"
      ]
     },
     "metadata": {},
     "output_type": "display_data"
    },
    {
     "name": "stdout",
     "output_type": "stream",
     "text": [
      "\n",
      "Train_Model()\n",
      "Epoch 1/30\n",
      "203/203 - 9s - loss: 0.1536 - fn: 18637.0000 - fp: 119633.0000 - tn: 232165.0000 - tp: 43477.0000 - precision: 0.2666 - recall: 0.7000 - accuracy: 0.6659 - Balanced_Accuracy_Metric: 0.6800 - Gmean_Metric: 0.4183 - Balanced_Precision_Metric: 0.6725 - F1_Metric: 0.3868 - Balanced_F1_Metric: 0.6805 - val_loss: 0.1469 - val_fn: 7829.0000 - val_fp: 47425.0000 - val_tn: 103346.0000 - val_tp: 18792.0000 - val_precision: 0.2838 - val_recall: 0.7059 - val_accuracy: 0.6885 - val_Balanced_Accuracy_Metric: 0.6958 - val_Gmean_Metric: 0.4410 - val_Balanced_Precision_Metric: 0.6917 - val_F1_Metric: 0.4047 - val_Balanced_F1_Metric: 0.6987 - 9s/epoch - 43ms/step\n",
      "Epoch 2/30\n",
      "203/203 - 9s - loss: 0.1467 - fn: 18077.0000 - fp: 110169.0000 - tn: 241629.0000 - tp: 44037.0000 - precision: 0.2856 - recall: 0.7090 - accuracy: 0.6902 - Balanced_Accuracy_Metric: 0.6982 - Gmean_Metric: 0.4440 - Balanced_Precision_Metric: 0.6946 - F1_Metric: 0.4080 - Balanced_F1_Metric: 0.7010 - val_loss: 0.1460 - val_fn: 8130.0000 - val_fp: 45040.0000 - val_tn: 105731.0000 - val_tp: 18491.0000 - val_precision: 0.2911 - val_recall: 0.6946 - val_accuracy: 0.7003 - val_Balanced_Accuracy_Metric: 0.6980 - val_Gmean_Metric: 0.4517 - val_Balanced_Precision_Metric: 0.6992 - val_F1_Metric: 0.4101 - val_Balanced_F1_Metric: 0.6968 - 9s/epoch - 42ms/step\n",
      "Epoch 3/30\n",
      "203/203 - 9s - loss: 0.1458 - fn: 18101.0000 - fp: 107986.0000 - tn: 243812.0000 - tp: 44013.0000 - precision: 0.2896 - recall: 0.7086 - accuracy: 0.6954 - Balanced_Accuracy_Metric: 0.7011 - Gmean_Metric: 0.4490 - Balanced_Precision_Metric: 0.6986 - F1_Metric: 0.4117 - Balanced_F1_Metric: 0.7029 - val_loss: 0.1455 - val_fn: 7399.0000 - val_fp: 48423.0000 - val_tn: 102348.0000 - val_tp: 19222.0000 - val_precision: 0.2842 - val_recall: 0.7221 - val_accuracy: 0.6853 - val_Balanced_Accuracy_Metric: 0.7006 - val_Gmean_Metric: 0.4392 - val_Balanced_Precision_Metric: 0.6921 - val_F1_Metric: 0.4078 - val_Balanced_F1_Metric: 0.7068 - 9s/epoch - 42ms/step\n",
      "Epoch 4/30\n",
      "203/203 - 9s - loss: 0.1454 - fn: 17826.0000 - fp: 108009.0000 - tn: 243789.0000 - tp: 44288.0000 - precision: 0.2908 - recall: 0.7130 - accuracy: 0.6960 - Balanced_Accuracy_Metric: 0.7028 - Gmean_Metric: 0.4491 - Balanced_Precision_Metric: 0.6993 - F1_Metric: 0.4129 - Balanced_F1_Metric: 0.7053 - val_loss: 0.1454 - val_fn: 7681.0000 - val_fp: 47047.0000 - val_tn: 103724.0000 - val_tp: 18940.0000 - val_precision: 0.2870 - val_recall: 0.7115 - val_accuracy: 0.6915 - val_Balanced_Accuracy_Metric: 0.6997 - val_Gmean_Metric: 0.4443 - val_Balanced_Precision_Metric: 0.6950 - val_F1_Metric: 0.4089 - val_Balanced_F1_Metric: 0.7030 - 9s/epoch - 42ms/step\n",
      "Epoch 5/30\n",
      "203/203 - 9s - loss: 0.1451 - fn: 17589.0000 - fp: 108391.0000 - tn: 243407.0000 - tp: 44525.0000 - precision: 0.2912 - recall: 0.7168 - accuracy: 0.6956 - Balanced_Accuracy_Metric: 0.7045 - Gmean_Metric: 0.4491 - Balanced_Precision_Metric: 0.7000 - F1_Metric: 0.4139 - Balanced_F1_Metric: 0.7077 - val_loss: 0.1470 - val_fn: 7915.0000 - val_fp: 45464.0000 - val_tn: 105307.0000 - val_tp: 18706.0000 - val_precision: 0.2915 - val_recall: 0.7027 - val_accuracy: 0.6991 - val_Balanced_Accuracy_Metric: 0.7007 - val_Gmean_Metric: 0.4512 - val_Balanced_Precision_Metric: 0.6997 - val_F1_Metric: 0.4120 - val_Balanced_F1_Metric: 0.7011 - 9s/epoch - 43ms/step\n",
      "Epoch 6/30\n",
      "203/203 - 9s - loss: 0.1446 - fn: 17616.0000 - fp: 107752.0000 - tn: 244046.0000 - tp: 44498.0000 - precision: 0.2923 - recall: 0.7164 - accuracy: 0.6971 - Balanced_Accuracy_Metric: 0.7050 - Gmean_Metric: 0.4511 - Balanced_Precision_Metric: 0.7010 - F1_Metric: 0.4156 - Balanced_F1_Metric: 0.7079 - val_loss: 0.1465 - val_fn: 7915.0000 - val_fp: 45316.0000 - val_tn: 105455.0000 - val_tp: 18706.0000 - val_precision: 0.2922 - val_recall: 0.7027 - val_accuracy: 0.6999 - val_Balanced_Accuracy_Metric: 0.7011 - val_Gmean_Metric: 0.4520 - val_Balanced_Precision_Metric: 0.7003 - val_F1_Metric: 0.4126 - val_Balanced_F1_Metric: 0.7014 - 9s/epoch - 42ms/step\n",
      "Epoch 7/30\n",
      "203/203 - 9s - loss: 0.1443 - fn: 17466.0000 - fp: 108214.0000 - tn: 243584.0000 - tp: 44648.0000 - precision: 0.2921 - recall: 0.7188 - accuracy: 0.6964 - Balanced_Accuracy_Metric: 0.7055 - Gmean_Metric: 0.4501 - Balanced_Precision_Metric: 0.7007 - F1_Metric: 0.4154 - Balanced_F1_Metric: 0.7089 - val_loss: 0.1462 - val_fn: 6756.0000 - val_fp: 52629.0000 - val_tn: 98142.0000 - val_tp: 19865.0000 - val_precision: 0.2740 - val_recall: 0.7462 - val_accuracy: 0.6652 - val_Balanced_Accuracy_Metric: 0.6987 - val_Gmean_Metric: 0.4224 - val_Balanced_Precision_Metric: 0.6814 - val_F1_Metric: 0.4008 - val_Balanced_F1_Metric: 0.7122 - 9s/epoch - 42ms/step\n",
      "Epoch 8/30\n",
      "203/203 - 9s - loss: 0.1438 - fn: 17488.0000 - fp: 106938.0000 - tn: 244860.0000 - tp: 44626.0000 - precision: 0.2944 - recall: 0.7185 - accuracy: 0.6994 - Balanced_Accuracy_Metric: 0.7071 - Gmean_Metric: 0.4530 - Balanced_Precision_Metric: 0.7029 - F1_Metric: 0.4176 - Balanced_F1_Metric: 0.7099 - val_loss: 0.1469 - val_fn: 8771.0000 - val_fp: 40364.0000 - val_tn: 110407.0000 - val_tp: 17850.0000 - val_precision: 0.3066 - val_recall: 0.6705 - val_accuracy: 0.7230 - val_Balanced_Accuracy_Metric: 0.7015 - val_Gmean_Metric: 0.4738 - val_Balanced_Precision_Metric: 0.7146 - val_F1_Metric: 0.4207 - val_Balanced_F1_Metric: 0.6917 - 9s/epoch - 43ms/step\n",
      "Epoch 9/30\n",
      "203/203 - 9s - loss: 0.1435 - fn: 17200.0000 - fp: 108157.0000 - tn: 243641.0000 - tp: 44914.0000 - precision: 0.2934 - recall: 0.7231 - accuracy: 0.6971 - Balanced_Accuracy_Metric: 0.7081 - Gmean_Metric: 0.4507 - Balanced_Precision_Metric: 0.7019 - F1_Metric: 0.4174 - Balanced_F1_Metric: 0.7122 - val_loss: 0.1460 - val_fn: 6908.0000 - val_fp: 50693.0000 - val_tn: 100078.0000 - val_tp: 19713.0000 - val_precision: 0.2800 - val_recall: 0.7405 - val_accuracy: 0.6753 - val_Balanced_Accuracy_Metric: 0.7022 - val_Gmean_Metric: 0.4311 - val_Balanced_Precision_Metric: 0.6877 - val_F1_Metric: 0.4062 - val_Balanced_F1_Metric: 0.7130 - 9s/epoch - 42ms/step\n",
      "Epoch 10/30\n",
      "203/203 - 9s - loss: 0.1432 - fn: 17185.0000 - fp: 107515.0000 - tn: 244283.0000 - tp: 44929.0000 - precision: 0.2947 - recall: 0.7233 - accuracy: 0.6987 - Balanced_Accuracy_Metric: 0.7090 - Gmean_Metric: 0.4528 - Balanced_Precision_Metric: 0.7034 - F1_Metric: 0.4189 - Balanced_F1_Metric: 0.7128 - val_loss: 0.1456 - val_fn: 8180.0000 - val_fp: 43421.0000 - val_tn: 107350.0000 - val_tp: 18441.0000 - val_precision: 0.2981 - val_recall: 0.6927 - val_accuracy: 0.7091 - val_Balanced_Accuracy_Metric: 0.7024 - val_Gmean_Metric: 0.4607 - val_Balanced_Precision_Metric: 0.7062 - val_F1_Metric: 0.4167 - val_Balanced_F1_Metric: 0.6993 - 9s/epoch - 42ms/step\n",
      "Epoch 11/30\n",
      "203/203 - 8s - loss: 0.1432 - fn: 16929.0000 - fp: 108578.0000 - tn: 243220.0000 - tp: 45185.0000 - precision: 0.2939 - recall: 0.7275 - accuracy: 0.6968 - Balanced_Accuracy_Metric: 0.7093 - Gmean_Metric: 0.4510 - Balanced_Precision_Metric: 0.7023 - F1_Metric: 0.4186 - Balanced_F1_Metric: 0.7143 - val_loss: 0.1461 - val_fn: 8101.0000 - val_fp: 44001.0000 - val_tn: 106770.0000 - val_tp: 18520.0000 - val_precision: 0.2962 - val_recall: 0.6957 - val_accuracy: 0.7063 - val_Balanced_Accuracy_Metric: 0.7019 - val_Gmean_Metric: 0.4579 - val_Balanced_Precision_Metric: 0.7044 - val_F1_Metric: 0.4153 - val_Balanced_F1_Metric: 0.6998 - 8s/epoch - 42ms/step\n",
      "Epoch 12/30\n",
      "203/203 - 8s - loss: 0.1430 - fn: 16803.0000 - fp: 108929.0000 - tn: 242869.0000 - tp: 45311.0000 - precision: 0.2938 - recall: 0.7295 - accuracy: 0.6962 - Balanced_Accuracy_Metric: 0.7101 - Gmean_Metric: 0.4510 - Balanced_Precision_Metric: 0.7025 - F1_Metric: 0.4193 - Balanced_F1_Metric: 0.7153 - val_loss: 0.1455 - val_fn: 5911.0000 - val_fp: 57130.0000 - val_tn: 93641.0000 - val_tp: 20710.0000 - val_precision: 0.2661 - val_recall: 0.7780 - val_accuracy: 0.6446 - val_Balanced_Accuracy_Metric: 0.6995 - val_Gmean_Metric: 0.4065 - val_Balanced_Precision_Metric: 0.6725 - val_F1_Metric: 0.3964 - val_Balanced_F1_Metric: 0.7212 - 8s/epoch - 41ms/step\n",
      "Epoch 13/30\n",
      "203/203 - 8s - loss: 0.1429 - fn: 16676.0000 - fp: 109412.0000 - tn: 242386.0000 - tp: 45438.0000 - precision: 0.2934 - recall: 0.7315 - accuracy: 0.6954 - Balanced_Accuracy_Metric: 0.7103 - Gmean_Metric: 0.4501 - Balanced_Precision_Metric: 0.7021 - F1_Metric: 0.4190 - Balanced_F1_Metric: 0.7161 - val_loss: 0.1453 - val_fn: 8016.0000 - val_fp: 44377.0000 - val_tn: 106394.0000 - val_tp: 18605.0000 - val_precision: 0.2954 - val_recall: 0.6989 - val_accuracy: 0.7046 - val_Balanced_Accuracy_Metric: 0.7023 - val_Gmean_Metric: 0.4565 - val_Balanced_Precision_Metric: 0.7036 - val_F1_Metric: 0.4151 - val_Balanced_F1_Metric: 0.7011 - 8s/epoch - 41ms/step\n"
     ]
    },
    {
     "name": "stdout",
     "output_type": "stream",
     "text": [
      "Epoch 14/30\n",
      "203/203 - 9s - loss: 0.1427 - fn: 16742.0000 - fp: 107728.0000 - tn: 244070.0000 - tp: 45372.0000 - precision: 0.2964 - recall: 0.7305 - accuracy: 0.6993 - Balanced_Accuracy_Metric: 0.7121 - Gmean_Metric: 0.4539 - Balanced_Precision_Metric: 0.7049 - F1_Metric: 0.4217 - Balanced_F1_Metric: 0.7169 - val_loss: 0.1455 - val_fn: 8015.0000 - val_fp: 43627.0000 - val_tn: 107144.0000 - val_tp: 18606.0000 - val_precision: 0.2990 - val_recall: 0.6989 - val_accuracy: 0.7089 - val_Balanced_Accuracy_Metric: 0.7048 - val_Gmean_Metric: 0.4609 - val_Balanced_Precision_Metric: 0.7072 - val_F1_Metric: 0.4187 - val_Balanced_F1_Metric: 0.7029 - 9s/epoch - 43ms/step\n",
      "Epoch 15/30\n",
      "203/203 - 9s - loss: 0.1426 - fn: 16788.0000 - fp: 107752.0000 - tn: 244046.0000 - tp: 45326.0000 - precision: 0.2961 - recall: 0.7297 - accuracy: 0.6991 - Balanced_Accuracy_Metric: 0.7116 - Gmean_Metric: 0.4532 - Balanced_Precision_Metric: 0.7046 - F1_Metric: 0.4210 - Balanced_F1_Metric: 0.7165 - val_loss: 0.1459 - val_fn: 7346.0000 - val_fp: 48161.0000 - val_tn: 102610.0000 - val_tp: 19275.0000 - val_precision: 0.2858 - val_recall: 0.7241 - val_accuracy: 0.6871 - val_Balanced_Accuracy_Metric: 0.7023 - val_Gmean_Metric: 0.4410 - val_Balanced_Precision_Metric: 0.6938 - val_F1_Metric: 0.4097 - val_Balanced_F1_Metric: 0.7084 - 9s/epoch - 42ms/step\n",
      "Epoch 16/30\n",
      "203/203 - 8s - loss: 0.1426 - fn: 16860.0000 - fp: 107048.0000 - tn: 244750.0000 - tp: 45254.0000 - precision: 0.2971 - recall: 0.7286 - accuracy: 0.7006 - Balanced_Accuracy_Metric: 0.7128 - Gmean_Metric: 0.4553 - Balanced_Precision_Metric: 0.7061 - F1_Metric: 0.4226 - Balanced_F1_Metric: 0.7172 - val_loss: 0.1455 - val_fn: 7870.0000 - val_fp: 45276.0000 - val_tn: 105495.0000 - val_tp: 18751.0000 - val_precision: 0.2929 - val_recall: 0.7044 - val_accuracy: 0.7004 - val_Balanced_Accuracy_Metric: 0.7021 - val_Gmean_Metric: 0.4526 - val_Balanced_Precision_Metric: 0.7010 - val_F1_Metric: 0.4135 - val_Balanced_F1_Metric: 0.7026 - 8s/epoch - 41ms/step\n",
      "Epoch 17/30\n",
      "203/203 - 8s - loss: 0.1423 - fn: 16464.0000 - fp: 109761.0000 - tn: 242037.0000 - tp: 45650.0000 - precision: 0.2937 - recall: 0.7349 - accuracy: 0.6950 - Balanced_Accuracy_Metric: 0.7114 - Gmean_Metric: 0.4498 - Balanced_Precision_Metric: 0.7022 - F1_Metric: 0.4198 - Balanced_F1_Metric: 0.7178 - val_loss: 0.1466 - val_fn: 6024.0000 - val_fp: 56877.0000 - val_tn: 93894.0000 - val_tp: 20597.0000 - val_precision: 0.2659 - val_recall: 0.7737 - val_accuracy: 0.6454 - val_Balanced_Accuracy_Metric: 0.6982 - val_Gmean_Metric: 0.4068 - val_Balanced_Precision_Metric: 0.6722 - val_F1_Metric: 0.3956 - val_Balanced_F1_Metric: 0.7192 - 8s/epoch - 41ms/step\n",
      "Epoch 18/30\n",
      "203/203 - 8s - loss: 0.1423 - fn: 16174.0000 - fp: 111145.0000 - tn: 240653.0000 - tp: 45940.0000 - precision: 0.2925 - recall: 0.7396 - accuracy: 0.6924 - Balanced_Accuracy_Metric: 0.7120 - Gmean_Metric: 0.4478 - Balanced_Precision_Metric: 0.7012 - F1_Metric: 0.4195 - Balanced_F1_Metric: 0.7195 - val_loss: 0.1456 - val_fn: 6683.0000 - val_fp: 52184.0000 - val_tn: 98587.0000 - val_tp: 19938.0000 - val_precision: 0.2764 - val_recall: 0.7490 - val_accuracy: 0.6682 - val_Balanced_Accuracy_Metric: 0.7015 - val_Gmean_Metric: 0.4252 - val_Balanced_Precision_Metric: 0.6839 - val_F1_Metric: 0.4037 - val_Balanced_F1_Metric: 0.7148 - 8s/epoch - 41ms/step\n",
      "Epoch 19/30\n",
      "203/203 - 8s - loss: 0.1422 - fn: 16168.0000 - fp: 110921.0000 - tn: 240877.0000 - tp: 45946.0000 - precision: 0.2929 - recall: 0.7397 - accuracy: 0.6930 - Balanced_Accuracy_Metric: 0.7123 - Gmean_Metric: 0.4483 - Balanced_Precision_Metric: 0.7016 - F1_Metric: 0.4199 - Balanced_F1_Metric: 0.7197 - val_loss: 0.1459 - val_fn: 7655.0000 - val_fp: 46266.0000 - val_tn: 104505.0000 - val_tp: 18966.0000 - val_precision: 0.2907 - val_recall: 0.7124 - val_accuracy: 0.6960 - val_Balanced_Accuracy_Metric: 0.7029 - val_Gmean_Metric: 0.4490 - val_Balanced_Precision_Metric: 0.6989 - val_F1_Metric: 0.4129 - val_Balanced_F1_Metric: 0.7055 - 8s/epoch - 41ms/step\n",
      "Epoch 20/30\n",
      "203/203 - 8s - loss: 0.1419 - fn: 16076.0000 - fp: 110956.0000 - tn: 240842.0000 - tp: 46038.0000 - precision: 0.2932 - recall: 0.7412 - accuracy: 0.6931 - Balanced_Accuracy_Metric: 0.7128 - Gmean_Metric: 0.4482 - Balanced_Precision_Metric: 0.7016 - F1_Metric: 0.4201 - Balanced_F1_Metric: 0.7204 - val_loss: 0.1452 - val_fn: 7631.0000 - val_fp: 46419.0000 - val_tn: 104352.0000 - val_tp: 18990.0000 - val_precision: 0.2903 - val_recall: 0.7133 - val_accuracy: 0.6953 - val_Balanced_Accuracy_Metric: 0.7028 - val_Gmean_Metric: 0.4483 - val_Balanced_Precision_Metric: 0.6985 - val_F1_Metric: 0.4126 - val_Balanced_F1_Metric: 0.7057 - 8s/epoch - 41ms/step\n",
      "Epoch 21/30\n",
      "203/203 - 8s - loss: 0.1418 - fn: 16102.0000 - fp: 110429.0000 - tn: 241369.0000 - tp: 46012.0000 - precision: 0.2941 - recall: 0.7408 - accuracy: 0.6943 - Balanced_Accuracy_Metric: 0.7133 - Gmean_Metric: 0.4493 - Balanced_Precision_Metric: 0.7024 - F1_Metric: 0.4208 - Balanced_F1_Metric: 0.7206 - val_loss: 0.1476 - val_fn: 8351.0000 - val_fp: 42833.0000 - val_tn: 107938.0000 - val_tp: 18270.0000 - val_precision: 0.2990 - val_recall: 0.6863 - val_accuracy: 0.7115 - val_Balanced_Accuracy_Metric: 0.7011 - val_Gmean_Metric: 0.4626 - val_Balanced_Precision_Metric: 0.7071 - val_F1_Metric: 0.4164 - val_Balanced_F1_Metric: 0.6964 - 8s/epoch - 42ms/step\n",
      "Epoch 22/30\n",
      "203/203 - 8s - loss: 0.1418 - fn: 16049.0000 - fp: 111218.0000 - tn: 240580.0000 - tp: 46065.0000 - precision: 0.2929 - recall: 0.7416 - accuracy: 0.6925 - Balanced_Accuracy_Metric: 0.7129 - Gmean_Metric: 0.4480 - Balanced_Precision_Metric: 0.7015 - F1_Metric: 0.4203 - Balanced_F1_Metric: 0.7208 - val_loss: 0.1472 - val_fn: 6628.0000 - val_fp: 52211.0000 - val_tn: 98560.0000 - val_tp: 19993.0000 - val_precision: 0.2769 - val_recall: 0.7510 - val_accuracy: 0.6683 - val_Balanced_Accuracy_Metric: 0.7024 - val_Gmean_Metric: 0.4254 - val_Balanced_Precision_Metric: 0.6844 - val_F1_Metric: 0.4045 - val_Balanced_F1_Metric: 0.7160 - 8s/epoch - 41ms/step\n",
      "Epoch 23/30\n",
      "203/203 - 9s - loss: 0.1417 - fn: 15970.0000 - fp: 110549.0000 - tn: 241249.0000 - tp: 46144.0000 - precision: 0.2945 - recall: 0.7429 - accuracy: 0.6943 - Balanced_Accuracy_Metric: 0.7147 - Gmean_Metric: 0.4495 - Balanced_Precision_Metric: 0.7031 - F1_Metric: 0.4217 - Balanced_F1_Metric: 0.7224 - val_loss: 0.1465 - val_fn: 8260.0000 - val_fp: 42713.0000 - val_tn: 108058.0000 - val_tp: 18361.0000 - val_precision: 0.3006 - val_recall: 0.6897 - val_accuracy: 0.7127 - val_Balanced_Accuracy_Metric: 0.7033 - val_Gmean_Metric: 0.4642 - val_Balanced_Precision_Metric: 0.7088 - val_F1_Metric: 0.4187 - val_Balanced_F1_Metric: 0.6990 - 9s/epoch - 44ms/step\n",
      "Epoch 24/30\n",
      "203/203 - 10s - loss: 0.1418 - fn: 16242.0000 - fp: 109439.0000 - tn: 242359.0000 - tp: 45872.0000 - precision: 0.2954 - recall: 0.7385 - accuracy: 0.6964 - Balanced_Accuracy_Metric: 0.7138 - Gmean_Metric: 0.4514 - Balanced_Precision_Metric: 0.7041 - F1_Metric: 0.4220 - Balanced_F1_Metric: 0.7205 - val_loss: 0.1468 - val_fn: 7972.0000 - val_fp: 44552.0000 - val_tn: 106219.0000 - val_tp: 18649.0000 - val_precision: 0.2951 - val_recall: 0.7005 - val_accuracy: 0.7039 - val_Balanced_Accuracy_Metric: 0.7026 - val_Gmean_Metric: 0.4559 - val_Balanced_Precision_Metric: 0.7033 - val_F1_Metric: 0.4152 - val_Balanced_F1_Metric: 0.7018 - 10s/epoch - 47ms/step\n",
      "Epoch 25/30\n",
      "203/203 - 9s - loss: 0.1415 - fn: 16211.0000 - fp: 108985.0000 - tn: 242813.0000 - tp: 45903.0000 - precision: 0.2964 - recall: 0.7390 - accuracy: 0.6975 - Balanced_Accuracy_Metric: 0.7142 - Gmean_Metric: 0.4522 - Balanced_Precision_Metric: 0.7046 - F1_Metric: 0.4227 - Balanced_F1_Metric: 0.7208 - val_loss: 0.1464 - val_fn: 6766.0000 - val_fp: 52016.0000 - val_tn: 98755.0000 - val_tp: 19855.0000 - val_precision: 0.2763 - val_recall: 0.7458 - val_accuracy: 0.6686 - val_Balanced_Accuracy_Metric: 0.7005 - val_Gmean_Metric: 0.4254 - val_Balanced_Precision_Metric: 0.6837 - val_F1_Metric: 0.4032 - val_Balanced_F1_Metric: 0.7133 - 9s/epoch - 45ms/step\n",
      "Epoch 26/30\n",
      "203/203 - 8s - loss: 0.1414 - fn: 16003.0000 - fp: 110030.0000 - tn: 241768.0000 - tp: 46111.0000 - precision: 0.2953 - recall: 0.7424 - accuracy: 0.6955 - Balanced_Accuracy_Metric: 0.7148 - Gmean_Metric: 0.4506 - Balanced_Precision_Metric: 0.7037 - F1_Metric: 0.4224 - Balanced_F1_Metric: 0.7222 - val_loss: 0.1461 - val_fn: 6673.0000 - val_fp: 52353.0000 - val_tn: 98418.0000 - val_tp: 19948.0000 - val_precision: 0.2759 - val_recall: 0.7493 - val_accuracy: 0.6673 - val_Balanced_Accuracy_Metric: 0.7011 - val_Gmean_Metric: 0.4244 - val_Balanced_Precision_Metric: 0.6833 - val_F1_Metric: 0.4032 - val_Balanced_F1_Metric: 0.7147 - 8s/epoch - 40ms/step\n"
     ]
    },
    {
     "name": "stdout",
     "output_type": "stream",
     "text": [
      "Epoch 27/30\n",
      "203/203 - 8s - loss: 0.1414 - fn: 15992.0000 - fp: 110258.0000 - tn: 241540.0000 - tp: 46122.0000 - precision: 0.2949 - recall: 0.7425 - accuracy: 0.6950 - Balanced_Accuracy_Metric: 0.7147 - Gmean_Metric: 0.4504 - Balanced_Precision_Metric: 0.7036 - F1_Metric: 0.4224 - Balanced_F1_Metric: 0.7223 - val_loss: 0.1462 - val_fn: 7226.0000 - val_fp: 48710.0000 - val_tn: 102061.0000 - val_tp: 19395.0000 - val_precision: 0.2848 - val_recall: 0.7286 - val_accuracy: 0.6847 - val_Balanced_Accuracy_Metric: 0.7028 - val_Gmean_Metric: 0.4390 - val_Balanced_Precision_Metric: 0.6927 - val_F1_Metric: 0.4094 - val_Balanced_F1_Metric: 0.7100 - 8s/epoch - 40ms/step\n",
      "Epoch 28/30\n",
      "203/203 - 8s - loss: 0.1412 - fn: 16064.0000 - fp: 109467.0000 - tn: 242331.0000 - tp: 46050.0000 - precision: 0.2961 - recall: 0.7414 - accuracy: 0.6967 - Balanced_Accuracy_Metric: 0.7151 - Gmean_Metric: 0.4518 - Balanced_Precision_Metric: 0.7045 - F1_Metric: 0.4233 - Balanced_F1_Metric: 0.7222 - val_loss: 0.1460 - val_fn: 6471.0000 - val_fp: 54071.0000 - val_tn: 96700.0000 - val_tp: 20150.0000 - val_precision: 0.2715 - val_recall: 0.7569 - val_accuracy: 0.6587 - val_Balanced_Accuracy_Metric: 0.6992 - val_Gmean_Metric: 0.4173 - val_Balanced_Precision_Metric: 0.6785 - val_F1_Metric: 0.3996 - val_Balanced_F1_Metric: 0.7155 - 8s/epoch - 40ms/step\n",
      "Epoch 29/30\n",
      "203/203 - 8s - loss: 0.1414 - fn: 16059.0000 - fp: 110149.0000 - tn: 241649.0000 - tp: 46055.0000 - precision: 0.2948 - recall: 0.7415 - accuracy: 0.6951 - Balanced_Accuracy_Metric: 0.7143 - Gmean_Metric: 0.4505 - Balanced_Precision_Metric: 0.7036 - F1_Metric: 0.4221 - Balanced_F1_Metric: 0.7216 - val_loss: 0.1456 - val_fn: 7411.0000 - val_fp: 47390.0000 - val_tn: 103381.0000 - val_tp: 19210.0000 - val_precision: 0.2884 - val_recall: 0.7216 - val_accuracy: 0.6911 - val_Balanced_Accuracy_Metric: 0.7037 - val_Gmean_Metric: 0.4447 - val_Balanced_Precision_Metric: 0.6966 - val_F1_Metric: 0.4120 - val_Balanced_F1_Metric: 0.7087 - 8s/epoch - 40ms/step\n",
      "Epoch 30/30\n",
      "203/203 - 8s - loss: 0.1412 - fn: 15904.0000 - fp: 110368.0000 - tn: 241430.0000 - tp: 46210.0000 - precision: 0.2951 - recall: 0.7440 - accuracy: 0.6949 - Balanced_Accuracy_Metric: 0.7151 - Gmean_Metric: 0.4502 - Balanced_Precision_Metric: 0.7036 - F1_Metric: 0.4225 - Balanced_F1_Metric: 0.7229 - val_loss: 0.1474 - val_fn: 7103.0000 - val_fp: 50101.0000 - val_tn: 100670.0000 - val_tp: 19518.0000 - val_precision: 0.2804 - val_recall: 0.7332 - val_accuracy: 0.6775 - val_Balanced_Accuracy_Metric: 0.7005 - val_Gmean_Metric: 0.4327 - val_Balanced_Precision_Metric: 0.6881 - val_F1_Metric: 0.4055 - val_Balanced_F1_Metric: 0.7098 - 8s/epoch - 40ms/step\n",
      "\n",
      "AdaBoost()\n",
      "0.8512841616307387\n",
      "TP =  2504.0  FN =  24117.0  FP =  2264.0  TN =  148507.0\n",
      "Accuracy_Metric:  0.8512841616302588\n",
      "Balanced_Accuracy_Metric:  0.5395224646385607\n",
      "Precision_Metric:  0.525167785223885\n",
      "Balanced_Precision_Metric:  0.8623346932098718\n",
      "Recall_Metric:  0.09406107959845963\n",
      "F1_Metric:  0.1595464863573845\n",
      "Balanced_F1_Metric:  0.16962059683279274\n",
      "Gmean_Metric:  0.7192230438584674\n",
      "CPU times: user 9min 28s, sys: 1min 13s, total: 10min 41s\n",
      "Wall time: 4min 41s\n"
     ]
    }
   ],
   "source": [
    "%%time\n",
    "def Main():\n",
    "    target = 'HOSPITAL'\n",
    "\n",
    "    data = Get_Data()\n",
    "    data = data.astype('int64')\n",
    "    \n",
    "    data = Remove_Pedestrian_Crashes(data)\n",
    "    data = Feature_Engineering_Cross_Two(data)\n",
    "\n",
    "    N = len(data)\n",
    "    n = len(data[data[target]==1])\n",
    "    print ('%d samples, %d hospitalized, %d not hospitalized' % (N, n, N-n))\n",
    "    print ('%f percent of samples hospitalized' % (n/N*100))\n",
    "    print ('There are %f negative samples for each positive.' % ((N-n)/n))\n",
    "    print ()\n",
    "            \n",
    "    data = Thin_Features(data)\n",
    "#    data = Really_Thin_Features(data)\n",
    "    for feature in data:\n",
    "        print (feature)\n",
    "    print ()\n",
    "    \n",
    "    # Alternate dataset, for debugging\n",
    "#    file_url = \"http://storage.googleapis.com/download.tensorflow.org/data/heart.csv\"\n",
    "#    data = pd.read_csv(file_url)\n",
    "#    target = 'target'\n",
    "\n",
    "    # Decrease set size, for debugging\n",
    "#    X_train, X_test, y_train, y_test = Split_Data(data, target, 0.90)\n",
    "#    data = X_train\n",
    "#    data['HOSPITAL'] = y_train\n",
    "\n",
    "    data = Get_Dummies(data, target)\n",
    "    display(data.head())\n",
    "    \n",
    "    X_train, X_test, y_train, y_test = Split_Data(data, target, 0.30)\n",
    "    print ('X_train.shape = ', X_train.shape)\n",
    "    print ('X_test.shape = ', X_test.shape)\n",
    "    print ('y_train.shape = ', y_train.shape)\n",
    "    print ('y_test.shape = ', y_test.shape)\n",
    "    print ()\n",
    "    \n",
    "#    X_train, y_train = Tomek_Links(X_train, y_train)\n",
    "#    X_train, y_train = Condensed_Nearest_Neighbour(X_train, y_train)\n",
    " \n",
    "    # Write to csv and read back in, \n",
    "    #    so we can play with the stuff later without having to redo the Tomek Links, \n",
    "    #    which can take a long time.\n",
    "#    X_train.to_csv('../../Big_Files/X_train_after_Tomek.csv', index=False)\n",
    "#    y_train.to_csv('../../Big_Files/y_train_after_Tomek.csv', index=False)\n",
    "#    X_train = pd.read_csv('../../Big_Files/X_train_after_Tomek.csv')\n",
    "#    y_train = pd.read_csv('../../Big_Files/y_train_after_Tomek.csv')\n",
    "    \n",
    "    model = Make_Model(X_train)\n",
    "    \n",
    "    loss_function = alpha_weighted_binary_crossentropy_with_parameters(5.663707)\n",
    "#    loss_function = focal_loss_with_parameters(5.663707, 2.0, 2.0)\n",
    "    model = Train_Model (X_train, X_test, y_train, y_test, model, loss_function)\n",
    "\n",
    "    AdaBoost (X_train, X_test, y_train, y_test)\n",
    "\n",
    "    return 0\n",
    "        \n",
    "model = Main()\n",
    "\n",
    "\n"
   ]
  },
  {
   "cell_type": "markdown",
   "id": "d36312dc",
   "metadata": {},
   "source": [
    "### Focal loss without Tomek Links\n",
    "    - val_loss: 0.0374 \n",
    "    - val_fn: 6235.0000 \n",
    "    - val_fp: 55525.0000 \n",
    "    - val_tn: 95246.0000 \n",
    "    - val_tp: 20386.0000 \n",
    "    - val_precision: 0.2686 \n",
    "    - val_recall: 0.7658 \n",
    "    - val_accuracy: 0.6518 \n",
    "    - val_Balanced_Accuracy_Metric: 0.6988 \n",
    "    - val_Gmean_Metric: 0.4119 \n",
    "    - val_Balanced_Precision_Metric: 0.6753 \n",
    "    - val_F1_Metric: 0.3976 \n",
    "    - val_Balanced_F1_Metric: 0.7176 \n",
    "\n",
    "### Binary Crossentropy without Tomek Links\n",
    "- val_loss: 0.1474 \n",
    "- val_fn: 7103.0000 \n",
    "- val_fp: 50101.0000 \n",
    "- val_tn: 100670.0000 \n",
    "- val_tp: 19518.0000 \n",
    "- val_precision: 0.2804 \n",
    "- val_recall: 0.7332 \n",
    "- val_accuracy: 0.6775 \n",
    "- val_Balanced_Accuracy_Metric: 0.7005 \n",
    "- val_Gmean_Metric: 0.4327 \n",
    "- val_Balanced_Precision_Metric: 0.6881 \n",
    "- val_F1_Metric: 0.4055 \n",
    "- val_Balanced_F1_Metric: 0.7098\n",
    "### AdaBoost without Tomek Links\n",
    "\n",
    "    - TP =  2504.0  \n",
    "    - FN =  24117.0  \n",
    "    - FP =  2264.0  \n",
    "    - TN =  148507.0\n",
    "    - Accuracy_Metric:  0.8512841616302588\n",
    "    - Balanced_Accuracy_Metric:  0.5395224646385607\n",
    "    - Precision_Metric:  0.525167785223885\n",
    "    - Balanced_Precision_Metric:  0.8623346932098718\n",
    "    - Recall_Metric:  0.09406107959845963\n",
    "    - F1_Metric:  0.1595464863573845\n",
    "    - Balanced_F1_Metric:  0.16962059683279274\n",
    "    - Gmean_Metric:  0.7192230438584674"
   ]
  },
  {
   "cell_type": "code",
   "execution_count": null,
   "id": "bdeb03bb",
   "metadata": {},
   "outputs": [],
   "source": []
  }
 ],
 "metadata": {
  "kernelspec": {
   "display_name": "tensorflow",
   "language": "python",
   "name": "tensorflow"
  },
  "language_info": {
   "codemirror_mode": {
    "name": "ipython",
    "version": 3
   },
   "file_extension": ".py",
   "mimetype": "text/x-python",
   "name": "python",
   "nbconvert_exporter": "python",
   "pygments_lexer": "ipython3",
   "version": "3.10.8"
  }
 },
 "nbformat": 4,
 "nbformat_minor": 5
}
