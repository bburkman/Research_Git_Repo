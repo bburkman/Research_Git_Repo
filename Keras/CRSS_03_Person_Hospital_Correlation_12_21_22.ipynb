{
 "cells": [
  {
   "cell_type": "markdown",
   "id": "6eada507",
   "metadata": {},
   "source": [
    "- CRSS where each sample corresponds to one person, not to one accident.  \n",
    "- This one corresponds better to evaluating per phone."
   ]
  },
  {
   "cell_type": "code",
   "execution_count": 1,
   "id": "1edb2407",
   "metadata": {},
   "outputs": [
    {
     "data": {
      "text/latex": [
       "\\tableofcontents\n"
      ],
      "text/plain": [
       "<IPython.core.display.Latex object>"
      ]
     },
     "metadata": {},
     "output_type": "display_data"
    }
   ],
   "source": [
    "%%latex\n",
    "\\tableofcontents"
   ]
  },
  {
   "cell_type": "markdown",
   "id": "c7fd6971",
   "metadata": {},
   "source": [
    "# Setup\n",
    "## Import Libraries"
   ]
  },
  {
   "cell_type": "code",
   "execution_count": 2,
   "id": "d9db3b18",
   "metadata": {
    "scrolled": true
   },
   "outputs": [
    {
     "name": "stdout",
     "output_type": "stream",
     "text": [
      "Python version: 3.9.16 (main, Dec  7 2022, 10:02:13) \n",
      "[Clang 14.0.0 (clang-1400.0.29.202)]\n",
      "NumPy version: 1.24.0\n",
      "Pandas version:  1.5.2\n"
     ]
    }
   ],
   "source": [
    "import sys, copy, math, time\n",
    "\n",
    "print ('Python version: {}'.format(sys.version))\n",
    "\n",
    "from IPython.display import display, HTML\n",
    "\n",
    "from collections import Counter\n",
    "\n",
    "import numpy as np\n",
    "print ('NumPy version: {}'.format(np.__version__))\n",
    "np.set_printoptions(suppress=True)\n",
    "\n",
    "import pandas as pd\n",
    "print ('Pandas version:  {}'.format(pd.__version__))\n",
    "pd.set_option('display.max_rows', 500)\n",
    "\n"
   ]
  },
  {
   "cell_type": "markdown",
   "id": "24f41d34",
   "metadata": {},
   "source": [
    "## Import Data"
   ]
  },
  {
   "cell_type": "markdown",
   "id": "98d7b6cf",
   "metadata": {},
   "source": [
    "### person.csv from CRSS"
   ]
  },
  {
   "cell_type": "code",
   "execution_count": 3,
   "id": "62699818",
   "metadata": {},
   "outputs": [],
   "source": [
    "def Import_Data_Person():\n",
    "    print ('Import_Data_Person()')\n",
    "\n",
    "    df = pd.DataFrame([])\n",
    "    for year in ['2016','2017','2018']:\n",
    "        filename = '../../Big_Files/CRSS_2020_Update/CRSS' + year + 'CSV/PERSON.CSV'\n",
    "#        filename = '../../CRSS/CRSS' + year + 'CSV/PERSON.CSV'\n",
    "        temp = pd.read_csv(filename, index_col=None)\n",
    "        print (year, len(temp))\n",
    "        df = df.append(temp)\n",
    "\n",
    "    for year in ['2019','2020']:\n",
    "        filename = '../../Big_Files/CRSS_2020_Update/CRSS' + year + 'CSV/person.csv'\n",
    "#        filename = '../../CRSS/CRSS' + year + 'CSV/person.csv'\n",
    "        temp = pd.read_csv(filename, index_col=None, encoding='latin1')\n",
    "        print (year, len(temp))\n",
    "        df = df.append(temp)\n",
    "\n",
    "#    for feature in df:\n",
    "#        print (feature)\n",
    "    \n",
    "\n",
    "#    for feature in df:\n",
    "#        if 'NAME' in feature:\n",
    "#            df.drop(columns=[feature], inplace=True)\n",
    "\n",
    "    print (df.shape)\n",
    "    print ()\n",
    "    return df"
   ]
  },
  {
   "cell_type": "markdown",
   "id": "84fa817a",
   "metadata": {},
   "source": [
    "### All Data"
   ]
  },
  {
   "cell_type": "code",
   "execution_count": 4,
   "id": "475eed2c",
   "metadata": {},
   "outputs": [],
   "source": [
    "def Import_Data():\n",
    "    print ('Import_Data()')\n",
    "    df_Person = Import_Data_Person()\n",
    "    \n",
    "    print ()\n",
    "    return df_Person"
   ]
  },
  {
   "cell_type": "markdown",
   "id": "f6e646ee",
   "metadata": {},
   "source": [
    "# Build Database"
   ]
  },
  {
   "cell_type": "markdown",
   "id": "b87f76f6",
   "metadata": {},
   "source": [
    "## Build_Person_Dataset"
   ]
  },
  {
   "cell_type": "code",
   "execution_count": 5,
   "id": "e30998e9",
   "metadata": {},
   "outputs": [],
   "source": [
    "def Build_Person_Dataset(df_Person):\n",
    "    print ('Build_Person_Dataset')\n",
    "    data = pd.DataFrame()\n",
    "    \n",
    "    F = [\n",
    "        'CASENUM',\n",
    "        'VEH_NO',\n",
    "        'AGE', \n",
    "        'AGE_IM',\n",
    "        'AIR_BAG',\n",
    "        'ALC_RES',\n",
    "        'ALC_STATUS',\n",
    "        'DRINKING',\n",
    "        'DRUGS',\n",
    "        'EJECT_IM',\n",
    "        'EJECTION',\n",
    "        'INJ_SEV',\n",
    "        'INJSEV_IM',\n",
    "        'LOCATION',\n",
    "#        'PER_NO',\n",
    "        'PER_TYP',\n",
    "        'PERALCH_IM',\n",
    "        'REST_MIS',\n",
    "        'REST_USE',\n",
    "        'SEAT_IM',\n",
    "        'SEAT_POS',\n",
    "        'SEX_IM',\n",
    "        'SEX',\n",
    "    ]\n",
    "\n",
    "    for f in F:\n",
    "        data[f] = df_Person[f]\n",
    "        \n",
    "    data['HOSPITAL'] = df_Person['HOSPITAL'].apply(lambda x:1 if x in [1,2,3,4,5] else 0)\n",
    "\n",
    "    data = data[data.VEH_NO != 0]\n",
    "\n",
    "    data = data.reindex(sorted(data.columns), axis=1)    \n",
    "    \n",
    "    print ()\n",
    "    return data"
   ]
  },
  {
   "cell_type": "markdown",
   "id": "ceaf28ce",
   "metadata": {},
   "source": [
    "## Feature Names"
   ]
  },
  {
   "cell_type": "code",
   "execution_count": 6,
   "id": "5917bb9b",
   "metadata": {},
   "outputs": [],
   "source": [
    "def Feature_Names(data, Named_Features):\n",
    "    print ('Feature_Names')\n",
    "    D = {}\n",
    "    for f in Named_Features:\n",
    "        g = f + 'NAME'\n",
    "        A = pd.concat([data[f],data[g]], axis=1)\n",
    "        A.drop_duplicates(inplace=True)\n",
    "        A.dropna(inplace=True)\n",
    "#        print (f)\n",
    "#        print (len(A))\n",
    "#        print (A.head())\n",
    "#        print ()\n",
    "        B = dict(zip(A[f],A[g]))\n",
    "        D[f] = B\n",
    "#        print (B)\n",
    "#        print ()\n",
    "#    print (D)\n",
    "    print ()\n",
    "    return D\n",
    "        "
   ]
  },
  {
   "cell_type": "code",
   "execution_count": null,
   "id": "060cf3fa",
   "metadata": {},
   "outputs": [],
   "source": []
  },
  {
   "cell_type": "code",
   "execution_count": 7,
   "id": "62b6a137",
   "metadata": {},
   "outputs": [],
   "source": [
    "def Remove_Unknowns_in_Feature(data, feature):\n",
    "    \n",
    "    Unknowns = {\n",
    "        'AGE': [998,999],\n",
    "        'AGE_IM': [],\n",
    "        'AIR_BAG': [98,99,],\n",
    "        'ALC_RES': [999,],\n",
    "        'ALC_STATUS': [8,9,],\n",
    "        'CASENUM': [],\n",
    "        'DRINKING': [8,9,],\n",
    "        'DRUGS': [8,9,],\n",
    "        'EJECT_IM': [],\n",
    "        'EJECTION': [7,9,],\n",
    "        'HELM_USE': [98,99,],\n",
    "        'HOSPITAL': [],\n",
    "        'INJ_SEV': [9,],\n",
    "        'INJSEV_IM': [],\n",
    "        'LOCATION': [98,99,],\n",
    "        'PER_NO': [],\n",
    "        'PER_TYP': [],\n",
    "        'PERALCH_IM': [],\n",
    "        'REST_MIS': [],\n",
    "        'REST_USE': [98,99,],\n",
    "        'SEAT_IM': [],\n",
    "        'SEAT_POS': [98,99,],\n",
    "        'SEX': [8,9,],\n",
    "        'SEX_IM': [],\n",
    "        'VEH_NO': [],\n",
    "    }\n",
    "    \n",
    "#    print ('Remove_Unknowns_in_Feature ', feature, Unknowns[feature], len(data))\n",
    "    data_temp = data[~data[feature].isin(Unknowns[feature])]\n",
    "#    print ('Remove_Unknowns_in_Feature ', feature, Unknowns[feature], len(data_temp))\n",
    "#    print ()\n",
    "    \n",
    "    return data_temp, Unknowns[feature]"
   ]
  },
  {
   "cell_type": "markdown",
   "id": "296c662d",
   "metadata": {},
   "source": [
    "## Correlation"
   ]
  },
  {
   "cell_type": "code",
   "execution_count": 8,
   "id": "743a17cd",
   "metadata": {},
   "outputs": [],
   "source": [
    "def Correlation(data, target, feature, value, name):\n",
    "    TN = 0\n",
    "    FP = 0\n",
    "    FN = 0\n",
    "    TP = 0\n",
    "    contingency_matrix = pd.crosstab(data[target], data[feature])\n",
    "    cm = contingency_matrix.values.tolist()\n",
    "    if len(cm)==2 and len(cm[0])==2:\n",
    "        corr = cm[1][1] / (cm[0][1] + cm[1][1])\n",
    "        per = (cm[0][1] + cm[1][1])/(cm[0][0] + cm[0][1] + cm[1][0] + cm[1][1])\n",
    "    else:\n",
    "        corr = 0\n",
    "        per = 0\n",
    "    per = round(per*100,4)\n",
    "    corr = round(corr*100,4)\n",
    "#    print (\"    - \", feature)\n",
    "#    print (\"    - \", value)\n",
    "#    print (\"    - \", name)\n",
    "#    print (contingency_matrix)\n",
    "#    print ('        - per = ', per)\n",
    "#    print (\"        - corr = \", corr)\n",
    "#    print ()\n",
    "    return (per, corr)\n",
    "\n",
    "def Correlation_by_Value(data, target, feature, Feature_Names_Dict, Unknowns):\n",
    "# I decided against the np.unique because it treats each nan as a separate entry.\n",
    "#    V = np.unique(data[feature].values) \n",
    "    V = data[feature].unique()\n",
    "#    print (V)\n",
    "    B = []\n",
    "\n",
    "    for value in V:\n",
    "        A = pd.DataFrame()\n",
    "        A[feature] = data[feature].apply(lambda x: 1 if x==value else 0)\n",
    "        A[target] = data[target]\n",
    "        if feature in Feature_Names_Dict:\n",
    "            if value in Feature_Names_Dict[feature]:\n",
    "                name = Feature_Names_Dict[feature][value]\n",
    "            else:\n",
    "                name=str(value)\n",
    "        else:\n",
    "            name = str(value)\n",
    "#        if len(name)>30:\n",
    "#            name = name[:30]\n",
    "        per, corr = Correlation(A, target, feature, value, name)\n",
    "        B.append([feature, value, name, per, corr])\n",
    "#    print (feature)\n",
    "    B = sorted(B, key=lambda x:x[4], reverse=True)\n",
    "    for b in B:\n",
    "        c = b[1]\n",
    "        try:\n",
    "            c = int(c)\n",
    "        except:\n",
    "            c=c\n",
    "        else:\n",
    "            c = int(c)\n",
    "#        print (c, end=',')\n",
    "#    print ()\n",
    "#    print ()\n",
    "\n",
    "    # Print grouped into 100/p blocks of same size\n",
    "    print (\"    feature = '%s'\" % feature)\n",
    "    print ('    A = [')\n",
    "    p = 20\n",
    "    s = 0.0\n",
    "    s2 = 0.0\n",
    "    n=0\n",
    "    print (\"        ['%d', [\" % n , end='')\n",
    "    for b in B:\n",
    "        t = s + b[3]\n",
    "        if b[3]<10:\n",
    "            s2 = s2 + b[3]\n",
    "        q = int(s/p)\n",
    "        r = int((t-0.001)/p)\n",
    "        if r>q or b[3]>10:\n",
    "            print (\"]], # \", round(s2,4), '%')\n",
    "            s2 = 0.0\n",
    "            n += 1\n",
    "            print (\"        ['%d', [\" % n , end='')\n",
    "        s = t\n",
    "        \n",
    "        c = b[1]\n",
    "        try:\n",
    "            c = int(c)\n",
    "        except:\n",
    "            c=c\n",
    "        else:\n",
    "            c = int(c)\n",
    "        print (c, end=',')\n",
    "        if b[3]>10:\n",
    "            print (\"]], # \", round(b[3],4), '%')\n",
    "            s2=0.0\n",
    "            n += 1\n",
    "            print (\"        ['%d', [\" % n , end='')\n",
    "    print (\"]], # \", round(s2,4), '%')\n",
    "    print (\"        ['Unknowns', [\", end='')\n",
    "    for u in Unknowns:\n",
    "        print (u, end=', ')\n",
    "    print (\"]]\" )\n",
    "    print ('    ]')\n",
    "    print ('    data = Build_Individual_Feature_with_Dict(df_Per, data, feature, A)')\n",
    "    print ()\n",
    "    \n",
    "    C = pd.DataFrame(B)\n",
    "    C.columns = ['Feature', 'Code', 'Name', 'Per', 'Corr']\n",
    "#    C.drop(C[C['Per'] < 0.1].index, inplace=True)\n",
    "#    print (C)\n",
    "    display(C)\n",
    "\n",
    "    TeX = open('../Correlation/Correlation_' + feature + '.tex', 'w')\n",
    "    E = [c for c in B if c[3]>=0.0]\n",
    "    \n",
    "        \n",
    "    \n",
    "    for c in E:\n",
    "        a = c[0]\n",
    "        b = c[1]\n",
    "        d = c[2]\n",
    "        e = \"{:.4f}\".format(c[3])\n",
    "        f = \"{:.4f}\".format(c[4])\n",
    "        TeX.write('\\t & \\\\verb|%s| & %s & %s & %s & %s \\\\cr\\n' % (a,b,d,e,f))\n",
    "    \n",
    "\n",
    "    TeX = open('../Correlation/Correlation_Ordered_' + feature + '.tex', 'w')\n",
    "    E = sorted(B, key=lambda x:x[1], reverse=False)\n",
    "\n",
    "    \n",
    "    for c in E:\n",
    "        a = c[0]\n",
    "        b = c[1]\n",
    "        d = c[2]\n",
    "        e = \"{:.4f}\".format(c[3])\n",
    "        f = \"{:.4f}\".format(c[4])\n",
    "        TeX.write('\\t & \\\\verb|%s| & %s & %s & %s & %s \\\\cr\\n' % (a,b,d,e,f))\n",
    "    \n",
    "\n",
    "    print ()\n",
    "    return B\n",
    "\n",
    "def Correlation_All(data, target, Feature_Names_Dict):\n",
    "    print ('Correlation_All')\n",
    "    \n",
    "    C = []\n",
    "    for feature in data:\n",
    "        data_temp, Unknowns = Remove_Unknowns_in_Feature(data, feature)\n",
    "        U = data_temp[feature].unique()\n",
    "#        print (feature, len(U))\n",
    "        if len(U)<10000:\n",
    "            B = Correlation_by_Value(\n",
    "                data_temp, target, feature, Feature_Names_Dict, Unknowns\n",
    "            )\n",
    "            for b in B:\n",
    "                C.append(b)\n",
    "#            print ()\n",
    "#        print ()\n",
    "#    for c in C:\n",
    "#        print (c)\n",
    "#    print ()\n",
    "    C = sorted(C, key=lambda x:x[4], reverse=True)\n",
    "    D = pd.DataFrame(C)\n",
    "    D.columns = ['Feature', 'Code', 'Name', 'Per', 'Corr']\n",
    "    print (D)\n",
    "    print ()\n",
    "    \n",
    "    D.drop(D[D['Per'] < 0.5].index, inplace=True)\n",
    "    print (D)\n",
    "    print ()\n",
    "    \n",
    "    TeX = open('../Correlation/Correlation.tex', 'w')\n",
    "    E = [c for c in C if c[3]>=0.5]\n",
    "    \n",
    "    for c in E:\n",
    "        a = c[0]\n",
    "        b = c[1]\n",
    "        d = c[2]\n",
    "        e = \"{:.4f}\".format(c[3])\n",
    "        f = \"{:.4f}\".format(c[4])\n",
    "        TeX.write('\\\\verb|%s| & %s & %s & %s & %s \\\\cr\\n' % (a,b,d,e,f))\n",
    "    \n",
    "    return 0\n",
    "\n",
    "    "
   ]
  },
  {
   "cell_type": "code",
   "execution_count": 9,
   "id": "c18d5644",
   "metadata": {},
   "outputs": [],
   "source": [
    "def PreDiscretize(df):\n",
    "    print ('PreDiscretize')\n",
    "    feature = 'ALC_RES'\n",
    "    interval = 50\n",
    "    A = [*range(-1,941,interval)]\n",
    "    A = A + [994,995,996,997,998,999]\n",
    "    L = []\n",
    "    for x in range (-1,940,interval):\n",
    "        s = str(x+1).zfill(3) + '-' + str(x+interval).zfill(3)\n",
    "        L.append(s)\n",
    "    L = L + ['995', '996', '997', '998', '999']\n",
    "    print (len(A), len(L))\n",
    "    print (A)\n",
    "    print (L)\n",
    "    New = pd.cut(\n",
    "        df[feature], \n",
    "        A, \n",
    "        labels=L\n",
    "    )\n",
    "    print ()\n",
    "    Crosstabs = pd.crosstab(df[feature], New)\n",
    "    print ()\n",
    "    display (Crosstabs)\n",
    "    \n",
    "    df[feature] = New\n",
    "    \n",
    "    print (df[feature].value_counts())\n",
    "    \n",
    "    return df\n",
    "    "
   ]
  },
  {
   "cell_type": "markdown",
   "id": "f8a0a8ff",
   "metadata": {},
   "source": [
    "# Main()"
   ]
  },
  {
   "cell_type": "code",
   "execution_count": 10,
   "id": "59406b93",
   "metadata": {
    "scrolled": false
   },
   "outputs": [
    {
     "name": "stdout",
     "output_type": "stream",
     "text": [
      "Import_Data()\n",
      "Import_Data_Person()\n",
      "2016 117759\n"
     ]
    },
    {
     "name": "stderr",
     "output_type": "stream",
     "text": [
      "<ipython-input-3-04f1dd30c605>:10: FutureWarning: The frame.append method is deprecated and will be removed from pandas in a future version. Use pandas.concat instead.\n",
      "  df = df.append(temp)\n"
     ]
    },
    {
     "name": "stdout",
     "output_type": "stream",
     "text": [
      "2017 138913\n",
      "2018 120230\n"
     ]
    },
    {
     "name": "stderr",
     "output_type": "stream",
     "text": [
      "<ipython-input-3-04f1dd30c605>:10: FutureWarning: The frame.append method is deprecated and will be removed from pandas in a future version. Use pandas.concat instead.\n",
      "  df = df.append(temp)\n",
      "<ipython-input-3-04f1dd30c605>:10: FutureWarning: The frame.append method is deprecated and will be removed from pandas in a future version. Use pandas.concat instead.\n",
      "  df = df.append(temp)\n"
     ]
    },
    {
     "name": "stdout",
     "output_type": "stream",
     "text": [
      "2019 135410\n"
     ]
    },
    {
     "name": "stderr",
     "output_type": "stream",
     "text": [
      "<ipython-input-3-04f1dd30c605>:17: FutureWarning: The frame.append method is deprecated and will be removed from pandas in a future version. Use pandas.concat instead.\n",
      "  df = df.append(temp)\n"
     ]
    },
    {
     "name": "stdout",
     "output_type": "stream",
     "text": [
      "2020 131962\n"
     ]
    },
    {
     "name": "stderr",
     "output_type": "stream",
     "text": [
      "<ipython-input-3-04f1dd30c605>:17: FutureWarning: The frame.append method is deprecated and will be removed from pandas in a future version. Use pandas.concat instead.\n",
      "  df = df.append(temp)\n"
     ]
    },
    {
     "name": "stdout",
     "output_type": "stream",
     "text": [
      "(644274, 117)\n",
      "\n",
      "\n",
      "Build_Person_Dataset\n",
      "\n",
      "Features in data, with Number of Unique Values and Number of Blank Values\n",
      "AGE 118 0\n",
      "AGE_IM 116 0\n",
      "AIR_BAG 11 0\n",
      "ALC_RES 335 0\n",
      "ALC_STATUS 5 0\n",
      "CASENUM 258904 0\n",
      "DRINKING 4 0\n",
      "DRUGS 4 0\n",
      "EJECTION 7 0\n",
      "EJECT_IM 5 0\n",
      "HOSPITAL 2 0\n",
      "INJSEV_IM 7 0\n",
      "INJ_SEV 8 0\n",
      "LOCATION 1 0\n",
      "PERALCH_IM 2 0\n",
      "PER_TYP 4 0\n",
      "REST_MIS 3 0\n",
      "REST_USE 20 0\n",
      "SEAT_IM 23 0\n",
      "SEAT_POS 29 0\n",
      "SEX 4 0\n",
      "SEX_IM 2 0\n",
      "VEH_NO 15 0\n",
      "\n",
      "Features in df_Person with Names\n",
      "        'AGE',\n",
      "        'AGE_IM',\n",
      "        'AIR_BAG',\n",
      "        'ALC_RES',\n",
      "        'ALC_STATUS',\n",
      "        'DRINKING',\n",
      "        'DRUGS',\n",
      "        'EJECTION',\n",
      "        'EJECT_IM',\n",
      "        'HOSPITAL',\n",
      "        'INJSEV_IM',\n",
      "        'INJ_SEV',\n",
      "        'LOCATION',\n",
      "        'PERALCH_IM',\n",
      "        'PER_TYP',\n",
      "        'REST_MIS',\n",
      "        'REST_USE',\n",
      "        'SEAT_IM',\n",
      "        'SEAT_POS',\n",
      "        'SEX',\n",
      "        'SEX_IM',\n",
      "\n",
      "Feature_Names\n",
      "\n",
      "{'AGE': {39: '39 Years', 20: '20 Years', 19: '19 Years', 999: 'Reported as Unknown', 42: '42 Years', 47: '47 Years', 37: '37 Years', 50: '50 Years', 26: '26 Years', 56: '56 Years', 23: '23 Years', 13: '13 Years', 54: '54 Years', 59: '59 Years', 17: '17 Years', 11: '11 Years', 29: '29 Years', 58: '58 Years', 45: '45 Years', 31: '31 Years', 25: '25 Years', 87: '87 Years', 33: '33 Years', 55: '55 Years', 30: '30 Years', 75: '75 Years', 79: '79 Years', 65: '65 Years', 24: '24 Years', 998: 'Not Reported', 27: '27 Years', 43: '43 Years', 70: '70 Years', 52: '52 Years', 48: '48 Years', 53: '53 Years', 61: '61 Years', 64: '64 Years', 51: '51 Years', 16: '16 Years', 35: '35 Years', 40: '40 Years', 6: '6 Years', 7: '7 Years', 28: '28 Years', 49: '49 Years', 71: '71 Years', 83: '83 Years', 57: '57 Years', 44: '44 Years', 32: '32 Years', 21: '21 Years', 4: '4 Years', 76: '76 Years', 66: '66 Years', 67: '67 Years', 90: '90 Years', 22: '22 Years', 81: '81 Years', 8: '8 Years', 5: '5 Years', 14: '14 Years', 60: '60 Years', 18: '18 Years', 68: '68 Years', 41: '41 Years', 3: '3 Years', 69: '69 Years', 38: '38 Years', 73: '73 Years', 34: '34 Years', 84: '84 Years', 62: '62 Years', 15: '15 Years', 10: '10 Years', 78: '78 Years', 72: '72 Years', 9: '9 Years', 46: '46 Years', 63: '63 Years', 1: '1 Year', 12: '12 Years', 36: '36 Years', 77: '77 Years', 74: '74 Years', 0: 'Less than One Year', 2: '2 Years', 82: '82 Years', 86: '86 Years', 88: '88 Years', 80: '80 Years', 94: '94 Years', 89: '89 Years', 85: '85 Years', 92: '92 Years', 95: '95 Years', 91: '91 Years', 118: '118 Years', 96: '96 Years', 98: '98 Years', 93: '93 Years', 97: '97 Years', 117: '117 Years', 99: '99 Years', 119: '119 Years', 101: '101 Years', 102: '102 Years', 114: '114 Years', 107: '107 Years', 100: '100 Years', 120: '120 Years'}, 'AGE_IM': {39: '39 Years', 20: '20 Years', 19: '19 Years', 47: '47 Years', 42: '42 Years', 37: '37 Years', 50: '50 Years', 26: '26 Years', 56: '56 Years', 23: '23 Years', 13: '13 Years', 54: '54 Years', 59: '59 Years', 17: '17 Years', 11: '11 Years', 29: '29 Years', 58: '58 Years', 45: '45 Years', 31: '31 Years', 25: '25 Years', 87: '87 Years', 33: '33 Years', 55: '55 Years', 30: '30 Years', 75: '75 Years', 79: '79 Years', 65: '65 Years', 24: '24 Years', 27: '27 Years', 43: '43 Years', 70: '70 Years', 52: '52 Years', 48: '48 Years', 53: '53 Years', 61: '61 Years', 64: '64 Years', 51: '51 Years', 16: '16 Years', 35: '35 Years', 40: '40 Years', 6: '6 Years', 7: '7 Years', 28: '28 Years', 49: '49 Years', 71: '71 Years', 83: '83 Years', 57: '57 Years', 44: '44 Years', 32: '32 Years', 21: '21 Years', 4: '4 Years', 76: '76 Years', 66: '66 Years', 67: '67 Years', 90: '90 Years', 72: '72 Years', 22: '22 Years', 81: '81 Years', 8: '8 Years', 5: '5 Years', 14: '14 Years', 60: '60 Years', 15: '15 Years', 18: '18 Years', 68: '68 Years', 41: '41 Years', 3: '3 Years', 69: '69 Years', 38: '38 Years', 73: '73 Years', 34: '34 Years', 84: '84 Years', 62: '62 Years', 10: '10 Years', 78: '78 Years', 9: '9 Years', 46: '46 Years', 63: '63 Years', 1: '1 Year', 12: '12 Years', 36: '36 Years', 77: '77 Years', 74: '74 Years', 0: 'Less than One Year', 2: '2 Years', 82: '82 Years', 86: '86 Years', 88: '88 Years', 80: '80 Years', 94: '94 Years', 91: '91 Years', 89: '89 Years', 85: '85 Years', 92: '92 Years', 95: '95 Years', 118: '118 Years', 96: '96 Years', 98: '98 Years', 93: '93 Years', 97: '97 Years', 117: '117 Years', 99: '99 Years', 119: '119 Years', 101: '101 Years', 102: '102 Years', 114: '114 Years', 107: '107 Years', 100: '100 Years', 120: '120 Years'}, 'AIR_BAG': {20: 'Not Deployed', 1: 'Deployed- Front', 97: 'Not a Motor Vehicle Occupant', 99: 'Reported as Deployment Unknown', 8: 'Deployed- Combination', 98: 'Not Reported', 9: 'Deployment- Unknown Location', 2: 'Deployed- Side (door, seatback)', 3: 'Deployed- Curtain (roof)', 7: 'Deployed- Other (Knee, air belt, etc.)'}, 'ALC_RES': {996: 'Test Not Given', 997: 'AC Test Performed, Results Unknown', 995: 'Not Reported', 0: '0.000 % BAC', 999: 'Reported as Unknown if Tested', 160: '0.160 % BAC', 180: '0.180 % BAC', 110: '0.110 % BAC', 40: '0.040 % BAC', 220: '0.220 % BAC', 210: '0.210 % BAC', 298: '0.298 % BAC', 168: '0.168 % BAC', 190: '0.190 % BAC', 150: '0.150 % BAC', 235: '0.235 % BAC', 197: '0.197 % BAC', 270: '0.270 % BAC', 130: '0.130 % BAC', 240: '0.240 % BAC', 260: '0.260 % BAC', 206: '0.206 % BAC', 162: '0.162 % BAC', 80: '0.080 % BAC', 998: 'Positive Reading with No Actual Value', 170: '0.170 % BAC', 120: '0.120 % BAC', 243: '0.243 % BAC', 90: '0.090 % BAC', 200: '0.200 % BAC', 194: '0.194 % BAC', 3: '0.003 % BAC', 296: '0.296 % BAC', 201: '0.201 % BAC', 140: '0.140 % BAC', 179: '0.179 % BAC', 145: '0.145 % BAC', 247: '0.247 % BAC', 208: '0.208 % BAC', 100: '0.100 % BAC', 123: '0.123 % BAC', 203: '0.203 % BAC', 216: '0.216 % BAC', 174: '0.174 % BAC', 250: '0.250 % BAC', 233: '0.233 % BAC', 310: '0.310 % BAC', 205: '0.205 % BAC', 230: '0.230 % BAC', 300: '0.300 % BAC', 126: '0.126 % BAC', 167: '0.167 % BAC', 25: '0.025 % BAC', 105: '0.105 % BAC', 204: '0.204 % BAC', 185: '0.185 % BAC', 129: '0.129 % BAC', 70: '0.070 % BAC', 94: '0.094 % BAC', 237: '0.237 % BAC', 121: '0.121 % BAC', 111: '0.111 % BAC', 214: '0.214 % BAC', 209: '0.209 % BAC', 195: '0.195 % BAC', 187: '0.187 % BAC', 172: '0.172 % BAC', 59: '0.059 % BAC', 47: '0.047 % BAC', 10: '0.010 % BAC', 135: '0.135 % BAC', 305: '0.305 % BAC', 940: '.94 % or Greater', 109: '0.109 % BAC', 191: '0.191 % BAC', 125: '0.125 % BAC', 189: '0.189 % BAC', 212: '0.212 % BAC', 147: '0.147 % BAC', 227: '0.227 % BAC', 234: '0.234 % BAC', 222: '0.222 % BAC', 254: '0.254 % BAC', 60: '0.060 % BAC', 245: '0.245 % BAC', 119: '0.119 % BAC', 83: '0.083 % BAC', 211: '0.211 % BAC', 50: '0.050 % BAC', 30: '0.030 % BAC', 196: '0.196 % BAC', 104: '0.104 % BAC', 16: '0.016 % BAC', 115: '0.115 % BAC', 176: '0.176 % BAC', 334: '0.334 % BAC', 144: '0.144 % BAC', 213: '0.213 % BAC', 113: '0.113 % BAC', 77: '0.077 % BAC', 20: '0.020 % BAC', 177: '0.177 % BAC', 289: '0.289 % BAC', 151: '0.151 % BAC', 156: '0.156 % BAC', 142: '0.142 % BAC', 61: '0.061 % BAC', 520: '0.520 % BAC', 93: '0.093 % BAC', 132: '0.132 % BAC', 99: '0.099 % BAC', 2: '0.002 % BAC', 318: '0.318 % BAC', 5: '0.005 % BAC', 193: '0.193 % BAC', 146: '0.146 % BAC', 242: '0.242 % BAC', 76: '0.076 % BAC', 231: '0.231 % BAC', 14: '0.014 % BAC', 252: '0.252 % BAC', 290: '0.290 % BAC', 226: '0.226 % BAC', 163: '0.163 % BAC', 337: '0.337 % BAC', 169: '0.169 % BAC', 322: '0.322 % BAC', 275: '0.275 % BAC', 286: '0.286 % BAC', 218: '0.218 % BAC', 255: '0.255 % BAC', 4: '0.004 % BAC', 154: '0.154 % BAC', 280: '0.280 % BAC', 68: '0.068 % BAC', 165: '0.165 % BAC', 287: '0.287 % BAC', 28: '0.028 % BAC', 188: '0.188 % BAC', 57: '0.057 % BAC', 158: '0.158 % BAC', 6: '0.006 % BAC', 139: '0.139 % BAC', 184: '0.184 % BAC', 108: '0.108 % BAC', 278: '0.278 % BAC', 86: '0.086 % BAC', 91: '0.091 % BAC', 107: '0.107 % BAC', 116: '0.116 % BAC', 137: '0.137 % BAC', 294: '0.294 % BAC', 106: '0.106 % BAC', 181: '0.181 % BAC', 217: '0.217 % BAC', 102: '0.102 % BAC', 251: '0.251 % BAC', 166: '0.166 % BAC', 249: '0.249 % BAC', 268: '0.268 % BAC', 31: '0.031 % BAC', 136: '0.136 % BAC', 182: '0.182 % BAC', 175: '0.175 % BAC', 82: '0.082 % BAC', 600: '0.600 % BAC', 45: '0.045 % BAC', 236: '0.236 % BAC', 173: '0.173 % BAC', 114: '0.114 % BAC', 72: '0.072 % BAC', 75: '0.075 % BAC', 246: '0.246 % BAC', 221: '0.221 % BAC', 192: '0.192 % BAC', 157: '0.157 % BAC', 155: '0.155 % BAC', 202: '0.202 % BAC', 207: '0.207 % BAC', 244: '0.244 % BAC', 152: '0.152 % BAC', 232: '0.232 % BAC', 101: '0.101 % BAC', 171: '0.171 % BAC', 164: '0.164 % BAC', 131: '0.131 % BAC', 143: '0.143 % BAC', 64: '0.064 % BAC', 248: '0.248 % BAC', 361: '0.361 % BAC', 292: '0.292 % BAC', 32: '0.032 % BAC', 320: '0.320 % BAC', 229: '0.229 % BAC', 198: '0.198 % BAC', 228: '0.228 % BAC', 395: '0.395 % BAC', 1: '0.001 % BAC', 27: '0.027 % BAC', 23: '0.023 % BAC', 128: '0.128 % BAC', 336: '0.336 % BAC', 141: '0.141 % BAC', 285: '0.285 % BAC', 350: '0.350 % BAC', 81: '0.081 % BAC', 307: '0.307 % BAC', 43: '0.043 % BAC', 390: '0.390 % BAC', 256: '0.256 % BAC', 215: '0.215 % BAC', 407: '0.407 % BAC', 96: '0.096 % BAC', 272: '0.272 % BAC', 12: '0.012 % BAC', 239: '0.239 % BAC', 302: '0.302 % BAC', 85: '0.085 % BAC', 78: '0.078 % BAC', 112: '0.112 % BAC', 117: '0.117 % BAC', 95: '0.095 % BAC', 223: '0.223 % BAC', 308: '0.308 % BAC', 309: '0.309 % BAC', 124: '0.124 % BAC', 384: '0.384 % BAC', 920: '0.920 % BAC', 161: '0.161 % BAC', 8: '0.008 % BAC', 159: '0.159 % BAC', 48: '0.048 % BAC', 53: '0.053 % BAC', 54: '0.054 % BAC', 66: '0.066 % BAC', 274: '0.274 % BAC', 380: '0.380 % BAC', 62: '0.062 % BAC', 340: '0.340 % BAC', 178: '0.178 % BAC', 67: '0.067 % BAC', 153: '0.153 % BAC', 262: '0.262 % BAC', 98: '0.098 % BAC', 42: '0.042 % BAC', 13: '0.013 % BAC', 79: '0.079 % BAC', 186: '0.186 % BAC', 375: '0.375 % BAC', 378: '0.378 % BAC', 138: '0.138 % BAC', 7: '0.007 % BAC', 26: '0.026 % BAC', 238: '0.238 % BAC', 224: '0.224 % BAC', 41: '0.041 % BAC', 259: '0.259 % BAC', 269: '0.269 % BAC', 58: '0.058 % BAC', 88: '0.088 % BAC', 382: '0.382 % BAC', 253: '0.253 % BAC', 281: '0.281 % BAC', 148: '0.148 % BAC', 271: '0.271 % BAC', 17: '0.017 % BAC', 241: '0.241 % BAC', 69: '0.069 % BAC', 11: '0.011 % BAC'}, 'ALC_STATUS': {0: 'Test Not Given', 2: 'Test Given', 8: 'Not Reported', 9: 'Reported as Unknown if Tested'}, 'DRINKING': {0: 'No (Alcohol Not Involved)', 8: 'Not Reported', 1: 'Yes (Alcohol Involved)', 9: 'Reported as Unknown'}, 'DRUGS': {0: 'No (drugs not involved)', 8: 'Not Reported', 9: 'Reported as Unknown', 1: 'Yes (drugs involved)'}, 'EJECTION': {0: 'Not Ejected', 9: 'Reported as Unknown if Ejected', 8: 'Not Applicable', 7: 'Not Reported', 1: 'Totally Ejected', 2: 'Partially Ejected', 3: 'Ejected - Unknown Degree'}, 'EJECT_IM': {0: 'Not Ejected', 8: 'Not Applicable', 1: 'Totally Ejected', 2: 'Partially Ejected', 3: 'Ejected - Unknown Degree'}, 'HOSPITAL': {0: 'Not Transported for Treatment', 6: 'Other', 5: 'EMS Ground', 3: 'EMS Unknown Mode', 8: 'Not Reported', 1: 'EMS Air', 4: 'Transported  Unknown Source', 2: 'Law Enforcement', 9: 'Reported as Unknown'}, 'INJSEV_IM': {0: 'No Apparent Injury (O)', 1: 'Possible Injury (C)', 2: 'Suspected Minor Injury (B)', 3: 'Suspected Serious Injury (A)', 4: 'Fatal Injury (K)', 6: 'Died Prior to Crash*', 5: 'Injured, Severity Unknown'}, 'INJ_SEV': {0: 'No Apparent Injury (O)', 1: 'Possible Injury (C)', 9: 'Unknown/Not Reported', 2: 'Suspected Minor Injury (B)', 3: 'Suspected Serious Injury (A)', 4: 'Fatal Injury (K)', 6: 'Died Prior to Crash*', 5: 'Injured, Severity Unknown'}, 'LOCATION': {0: 'Occupant of a Motor Vehicle', 11: 'Not at Intersection - On Roadway, Not in Marked Crosswalk', 13: 'Not at Intersection - On Roadway, Crosswalk Availability Unknown', 1: 'At Intersection - In Marked Crosswalk', 98: 'Not Reported', 25: 'Non- Trafficway Area', 20: 'Shoulder/Roadside', 9: 'At Intersection - Unknown location', 10: 'Not at Intersection - In  Marked Crosswalk', 3: 'At Intersection - Not In Crosswalk', 23: 'Driveway Access', 2: 'At Intersection-Unmarked / Unknown if Marked Crosswalk', 16: 'Bicycle Lane', 28: 'Other', 22: 'Median/Crossing Island', 21: 'Sidewalk', 14: 'Parking Lane/Zone', 99: 'Reported as Unknown Location', 24: 'Shared-Use Path'}, 'PERALCH_IM': {0: 'No (Alcohol Not Involved)', 1: 'Yes (Alcohol Involved)'}, 'PER_TYP': {1: 'Driver of a Motor Vehicle In-Transport', 2: 'Passenger of a Motor Vehicle In-Transport', 5: 'Pedestrian', 6: 'Bicyclist', 3: 'Occupant of a Motor Vehicle Not In- Transport', 8: 'Person on Personal Conveyances', 4: 'Occupant of a Non-Motor Vehicle Transport Device', 10: 'Persons In/On Buildings', 9: 'Unknown Occupant Type in a Motor Vehicle In- Transport', 7: 'Other Cyclist', 11: 'Person on Motorized Personal Conveyance', 12: 'Person on Non-Motorized Personal Conveyance', 13: 'Person on Personal Conveyance, Unknown if Motorized or Non-Motorized'}, 'REST_MIS': {0: 'No Indication of Mis-Use', 7: 'None Used/Not Applicable', 8: 'Not a Motor Vehicle Occupant', 1: 'Yes, Indication of Mis-Use'}, 'REST_USE': {3: 'Shoulder and Lap Belt Used', 20: 'None Used/Not Applicable', 99: 'Reported as Unknown', 96: 'Not a Motor Vehicle Occupant', 8: 'Restraint Used - Type Unknown', 2: 'Lap Belt Only Used', 97: 'Other', 4: 'Child Restraint Type Unknown', 98: 'Not Reported', 10: 'Child Restraint System - Forward Facing', 1: 'Shoulder Belt Only Used', 11: 'Child Restraint System - Rear Facing', 12: 'Booster Seat', 6: 'Racing-Style Harness Used'}, 'SEAT_IM': {11: 'Front Seat, Left Side', 13: 'Front Seat, Right Side', 21: 'Second Seat, Left Side', 0: 'Not a Motor Vehicle Occupant', 23: 'Second Seat, Right Side', 22: 'Second Seat, Middle', 32: 'Third Seat, Middle', 12: 'Front Seat, Middle', 31: 'Third Seat, Left Side', 33: 'Third Seat, Right Side', 54: 'Trailing Unit', 50: 'Sleeper Section of Cab (Truck)', 51: 'Other Passenger in enclosed passenger or cargo area', 28: 'Second Seat, Other', 53: 'Other Passenger in passenger or cargo area, unknown whether or not enclosed', 52: 'Other Passenger in unenclosed passenger or cargo area', 41: 'Fourth Seat, Left Side', 55: 'Riding on Exterior of Vehicle', 43: 'Fourth Seat, Right Side', 56: 'Appended to a Motor Vehicle for Motion', 18: 'Front Seat, Other', 38: 'Third Seat, Other', 48: 'Fourth Seat, Other', 42: 'Fourth Seat, Middle'}, 'SEAT_POS': {11: 'Front Seat, Left Side', 13: 'Front Seat, Right Side', 21: 'Second Seat, Left Side', 0: 'Not a Motor Vehicle Occupant', 23: 'Second Seat, Right Side', 22: 'Second Seat, Middle', 19: 'Front Seat, Unknown', 29: 'Second Seat, Unknown', 98: 'Not Reported', 32: 'Third Seat, Middle', 12: 'Front Seat, Middle', 31: 'Third Seat, Left Side', 33: 'Third Seat, Right Side', 54: 'Trailing Unit', 50: 'Sleeper Section of Cab (Truck)', 51: 'Other Passenger in enclosed passenger or cargo area', 99: 'Reported as Unknown', 28: 'Second Seat, Other', 53: 'Other Passenger in passenger or cargo area, unknown whether or not enclosed', 52: 'Other Passenger in unenclosed passenger or cargo area', 39: 'Third Seat, Unknown', 41: 'Fourth Seat, Left Side', 55: 'Riding on Exterior of Vehicle', 43: 'Fourth Seat, Right Side', 56: 'Appended to a Motor Vehicle for Motion', 18: 'Front Seat, Other', 38: 'Third Seat, Other', 48: 'Fourth Seat, Other', 42: 'Fourth Seat, Middle'}, 'SEX': {1: 'Male', 2: 'Female', 9: 'Reported as Unknown', 8: 'Not Reported'}, 'SEX_IM': {1: 'Male', 2: 'Female'}}\n"
     ]
    },
    {
     "data": {
      "text/plain": [
       "0"
      ]
     },
     "execution_count": 10,
     "metadata": {},
     "output_type": "execute_result"
    }
   ],
   "source": [
    "def Main():\n",
    "    target = 'HOSPITAL'\n",
    "    df_Person = Import_Data()\n",
    "    data = Build_Person_Dataset(df_Person)\n",
    "    \n",
    "    print ('Features in data, with Number of Unique Values and Number of Blank Values')\n",
    "    for feature in data:\n",
    "        U = data[feature].unique()\n",
    "        s = data[feature].isna().sum()\n",
    "        print (feature, len(U), s)\n",
    "    print ()\n",
    "    \n",
    "    \n",
    "    print ('Features in df_Person with Names')\n",
    "    F = []\n",
    "    for feature in df_Person:\n",
    "        if 'NAME' in feature:\n",
    "            f = feature[:-4]\n",
    "            if f in data:\n",
    "                F.append(f)\n",
    "    F = sorted(F)\n",
    "    for f in F:\n",
    "        print (\"        '%s',\" % f)\n",
    "    print ()\n",
    "    \n",
    "    Named_Features_df_Person = [\n",
    "        'AGE',\n",
    "        'AGE_IM',\n",
    "        'AIR_BAG',\n",
    "        'ALC_RES',\n",
    "        'ALC_STATUS',\n",
    "        'DRINKING',\n",
    "        'DRUGS',\n",
    "        'EJECTION',\n",
    "        'EJECT_IM',\n",
    "        'HOSPITAL',\n",
    "        'INJSEV_IM',\n",
    "        'INJ_SEV',\n",
    "        'LOCATION',\n",
    "        'PERALCH_IM',\n",
    "        'PER_TYP',\n",
    "        'REST_MIS',\n",
    "        'REST_USE',\n",
    "        'SEAT_IM',\n",
    "        'SEAT_POS',\n",
    "        'SEX',\n",
    "        'SEX_IM',\n",
    "    ]\n",
    "\n",
    "    Feature_Names_Dict = Feature_Names(df_Person, Named_Features_df_Person)\n",
    "\n",
    "    print (Feature_Names_Dict)\n",
    "    \n",
    "    return 0\n",
    "\n",
    "    PreDiscretize(data)\n",
    "\n",
    "    Correlation_All(data, target, Feature_Names_Dict)\n",
    "\n",
    "\n",
    "Main()"
   ]
  },
  {
   "cell_type": "code",
   "execution_count": null,
   "id": "1b80f134",
   "metadata": {},
   "outputs": [],
   "source": []
  },
  {
   "cell_type": "code",
   "execution_count": null,
   "id": "fec66590",
   "metadata": {},
   "outputs": [],
   "source": []
  },
  {
   "cell_type": "code",
   "execution_count": null,
   "id": "743aa960",
   "metadata": {},
   "outputs": [],
   "source": []
  }
 ],
 "metadata": {
  "kernelspec": {
   "display_name": "Python 3",
   "language": "python",
   "name": "python3"
  },
  "language_info": {
   "codemirror_mode": {
    "name": "ipython",
    "version": 3
   },
   "file_extension": ".py",
   "mimetype": "text/x-python",
   "name": "python",
   "nbconvert_exporter": "python",
   "pygments_lexer": "ipython3",
   "version": "3.9.16"
  }
 },
 "nbformat": 4,
 "nbformat_minor": 5
}
